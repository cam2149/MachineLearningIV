{
  "metadata": {
    "kernelspec": {
      "display_name": "Python 3",
      "language": "python",
      "name": "python3"
    },
    "language_info": {
      "name": "python",
      "version": "3.10.12",
      "mimetype": "text/x-python",
      "codemirror_mode": {
        "name": "ipython",
        "version": 3
      },
      "pygments_lexer": "ipython3",
      "nbconvert_exporter": "python",
      "file_extension": ".py"
    },
    "kaggle": {
      "accelerator": "gpu",
      "dataSources": [
        {
          "sourceId": 91296,
          "databundleVersionId": 10829413,
          "sourceType": "competition"
        }
      ],
      "dockerImageVersionId": 30840,
      "isInternetEnabled": true,
      "language": "python",
      "sourceType": "notebook",
      "isGpuEnabled": true
    },
    "papermill": {
      "default_parameters": {},
      "duration": 78.817453,
      "end_time": "2024-11-13T17:33:19.861943",
      "environment_variables": {},
      "exception": null,
      "input_path": "__notebook__.ipynb",
      "output_path": "__notebook__.ipynb",
      "parameters": {},
      "start_time": "2024-11-13T17:32:01.04449",
      "version": "2.4.0"
    },
    "widgets": {
      "application/vnd.jupyter.widget-state+json": {
        "8a0c4482fcbe40da965b29cb1e5b2d7a": {
          "model_module": "@jupyter-widgets/controls",
          "model_name": "HBoxModel",
          "model_module_version": "1.5.0",
          "state": {
            "_dom_classes": [],
            "_model_module": "@jupyter-widgets/controls",
            "_model_module_version": "1.5.0",
            "_model_name": "HBoxModel",
            "_view_count": null,
            "_view_module": "@jupyter-widgets/controls",
            "_view_module_version": "1.5.0",
            "_view_name": "HBoxView",
            "box_style": "",
            "children": [
              "IPY_MODEL_00cace0203714857bf06286549206d4f",
              "IPY_MODEL_4298aa0207054a6583af1a8d28b6991c",
              "IPY_MODEL_86eb1bacf84141f082a0b13fccccac38"
            ],
            "layout": "IPY_MODEL_fae94cd03e7842ddbdf818153f907724"
          }
        },
        "00cace0203714857bf06286549206d4f": {
          "model_module": "@jupyter-widgets/controls",
          "model_name": "HTMLModel",
          "model_module_version": "1.5.0",
          "state": {
            "_dom_classes": [],
            "_model_module": "@jupyter-widgets/controls",
            "_model_module_version": "1.5.0",
            "_model_name": "HTMLModel",
            "_view_count": null,
            "_view_module": "@jupyter-widgets/controls",
            "_view_module_version": "1.5.0",
            "_view_name": "HTMLView",
            "description": "",
            "description_tooltip": null,
            "layout": "IPY_MODEL_4d250bca23a645c98f67c76bcb4b0b81",
            "placeholder": "​",
            "style": "IPY_MODEL_df10c7415e994d88ba1039a94aefc291",
            "value": ""
          }
        },
        "4298aa0207054a6583af1a8d28b6991c": {
          "model_module": "@jupyter-widgets/controls",
          "model_name": "FloatProgressModel",
          "model_module_version": "1.5.0",
          "state": {
            "_dom_classes": [],
            "_model_module": "@jupyter-widgets/controls",
            "_model_module_version": "1.5.0",
            "_model_name": "FloatProgressModel",
            "_view_count": null,
            "_view_module": "@jupyter-widgets/controls",
            "_view_module_version": "1.5.0",
            "_view_name": "ProgressView",
            "bar_style": "info",
            "description": "",
            "description_tooltip": null,
            "layout": "IPY_MODEL_d7494d6de7d04506bcda2016a3036ea0",
            "max": 1,
            "min": 0,
            "orientation": "horizontal",
            "style": "IPY_MODEL_30066485dc4942baa3270a11d0628c65",
            "value": 0
          }
        },
        "86eb1bacf84141f082a0b13fccccac38": {
          "model_module": "@jupyter-widgets/controls",
          "model_name": "HTMLModel",
          "model_module_version": "1.5.0",
          "state": {
            "_dom_classes": [],
            "_model_module": "@jupyter-widgets/controls",
            "_model_module_version": "1.5.0",
            "_model_name": "HTMLModel",
            "_view_count": null,
            "_view_module": "@jupyter-widgets/controls",
            "_view_module_version": "1.5.0",
            "_view_name": "HTMLView",
            "description": "",
            "description_tooltip": null,
            "layout": "IPY_MODEL_f0db7be83486461897a0488a41709ed7",
            "placeholder": "​",
            "style": "IPY_MODEL_83bb69c161f94efca14eed07690a6b2e",
            "value": " 0/? [00:00&lt;?, ?it/s]"
          }
        },
        "fae94cd03e7842ddbdf818153f907724": {
          "model_module": "@jupyter-widgets/base",
          "model_name": "LayoutModel",
          "model_module_version": "1.2.0",
          "state": {
            "_model_module": "@jupyter-widgets/base",
            "_model_module_version": "1.2.0",
            "_model_name": "LayoutModel",
            "_view_count": null,
            "_view_module": "@jupyter-widgets/base",
            "_view_module_version": "1.2.0",
            "_view_name": "LayoutView",
            "align_content": null,
            "align_items": null,
            "align_self": null,
            "border": null,
            "bottom": null,
            "display": null,
            "flex": null,
            "flex_flow": null,
            "grid_area": null,
            "grid_auto_columns": null,
            "grid_auto_flow": null,
            "grid_auto_rows": null,
            "grid_column": null,
            "grid_gap": null,
            "grid_row": null,
            "grid_template_areas": null,
            "grid_template_columns": null,
            "grid_template_rows": null,
            "height": null,
            "justify_content": null,
            "justify_items": null,
            "left": null,
            "margin": null,
            "max_height": null,
            "max_width": null,
            "min_height": null,
            "min_width": null,
            "object_fit": null,
            "object_position": null,
            "order": null,
            "overflow": null,
            "overflow_x": null,
            "overflow_y": null,
            "padding": null,
            "right": null,
            "top": null,
            "visibility": null,
            "width": null
          }
        },
        "4d250bca23a645c98f67c76bcb4b0b81": {
          "model_module": "@jupyter-widgets/base",
          "model_name": "LayoutModel",
          "model_module_version": "1.2.0",
          "state": {
            "_model_module": "@jupyter-widgets/base",
            "_model_module_version": "1.2.0",
            "_model_name": "LayoutModel",
            "_view_count": null,
            "_view_module": "@jupyter-widgets/base",
            "_view_module_version": "1.2.0",
            "_view_name": "LayoutView",
            "align_content": null,
            "align_items": null,
            "align_self": null,
            "border": null,
            "bottom": null,
            "display": null,
            "flex": null,
            "flex_flow": null,
            "grid_area": null,
            "grid_auto_columns": null,
            "grid_auto_flow": null,
            "grid_auto_rows": null,
            "grid_column": null,
            "grid_gap": null,
            "grid_row": null,
            "grid_template_areas": null,
            "grid_template_columns": null,
            "grid_template_rows": null,
            "height": null,
            "justify_content": null,
            "justify_items": null,
            "left": null,
            "margin": null,
            "max_height": null,
            "max_width": null,
            "min_height": null,
            "min_width": null,
            "object_fit": null,
            "object_position": null,
            "order": null,
            "overflow": null,
            "overflow_x": null,
            "overflow_y": null,
            "padding": null,
            "right": null,
            "top": null,
            "visibility": null,
            "width": null
          }
        },
        "df10c7415e994d88ba1039a94aefc291": {
          "model_module": "@jupyter-widgets/controls",
          "model_name": "DescriptionStyleModel",
          "model_module_version": "1.5.0",
          "state": {
            "_model_module": "@jupyter-widgets/controls",
            "_model_module_version": "1.5.0",
            "_model_name": "DescriptionStyleModel",
            "_view_count": null,
            "_view_module": "@jupyter-widgets/base",
            "_view_module_version": "1.2.0",
            "_view_name": "StyleView",
            "description_width": ""
          }
        },
        "d7494d6de7d04506bcda2016a3036ea0": {
          "model_module": "@jupyter-widgets/base",
          "model_name": "LayoutModel",
          "model_module_version": "1.2.0",
          "state": {
            "_model_module": "@jupyter-widgets/base",
            "_model_module_version": "1.2.0",
            "_model_name": "LayoutModel",
            "_view_count": null,
            "_view_module": "@jupyter-widgets/base",
            "_view_module_version": "1.2.0",
            "_view_name": "LayoutView",
            "align_content": null,
            "align_items": null,
            "align_self": null,
            "border": null,
            "bottom": null,
            "display": null,
            "flex": null,
            "flex_flow": null,
            "grid_area": null,
            "grid_auto_columns": null,
            "grid_auto_flow": null,
            "grid_auto_rows": null,
            "grid_column": null,
            "grid_gap": null,
            "grid_row": null,
            "grid_template_areas": null,
            "grid_template_columns": null,
            "grid_template_rows": null,
            "height": null,
            "justify_content": null,
            "justify_items": null,
            "left": null,
            "margin": null,
            "max_height": null,
            "max_width": null,
            "min_height": null,
            "min_width": null,
            "object_fit": null,
            "object_position": null,
            "order": null,
            "overflow": null,
            "overflow_x": null,
            "overflow_y": null,
            "padding": null,
            "right": null,
            "top": null,
            "visibility": null,
            "width": "20px"
          }
        },
        "30066485dc4942baa3270a11d0628c65": {
          "model_module": "@jupyter-widgets/controls",
          "model_name": "ProgressStyleModel",
          "model_module_version": "1.5.0",
          "state": {
            "_model_module": "@jupyter-widgets/controls",
            "_model_module_version": "1.5.0",
            "_model_name": "ProgressStyleModel",
            "_view_count": null,
            "_view_module": "@jupyter-widgets/base",
            "_view_module_version": "1.2.0",
            "_view_name": "StyleView",
            "bar_color": null,
            "description_width": ""
          }
        },
        "f0db7be83486461897a0488a41709ed7": {
          "model_module": "@jupyter-widgets/base",
          "model_name": "LayoutModel",
          "model_module_version": "1.2.0",
          "state": {
            "_model_module": "@jupyter-widgets/base",
            "_model_module_version": "1.2.0",
            "_model_name": "LayoutModel",
            "_view_count": null,
            "_view_module": "@jupyter-widgets/base",
            "_view_module_version": "1.2.0",
            "_view_name": "LayoutView",
            "align_content": null,
            "align_items": null,
            "align_self": null,
            "border": null,
            "bottom": null,
            "display": null,
            "flex": null,
            "flex_flow": null,
            "grid_area": null,
            "grid_auto_columns": null,
            "grid_auto_flow": null,
            "grid_auto_rows": null,
            "grid_column": null,
            "grid_gap": null,
            "grid_row": null,
            "grid_template_areas": null,
            "grid_template_columns": null,
            "grid_template_rows": null,
            "height": null,
            "justify_content": null,
            "justify_items": null,
            "left": null,
            "margin": null,
            "max_height": null,
            "max_width": null,
            "min_height": null,
            "min_width": null,
            "object_fit": null,
            "object_position": null,
            "order": null,
            "overflow": null,
            "overflow_x": null,
            "overflow_y": null,
            "padding": null,
            "right": null,
            "top": null,
            "visibility": null,
            "width": null
          }
        },
        "83bb69c161f94efca14eed07690a6b2e": {
          "model_module": "@jupyter-widgets/controls",
          "model_name": "DescriptionStyleModel",
          "model_module_version": "1.5.0",
          "state": {
            "_model_module": "@jupyter-widgets/controls",
            "_model_module_version": "1.5.0",
            "_model_name": "DescriptionStyleModel",
            "_view_count": null,
            "_view_module": "@jupyter-widgets/base",
            "_view_module_version": "1.2.0",
            "_view_name": "StyleView",
            "description_width": ""
          }
        }
      }
    },
    "colab": {
      "name": "aa-iv-2025-i-object-localization",
      "provenance": [],
      "include_colab_link": true
    }
  },
  "nbformat_minor": 0,
  "nbformat": 4,
  "cells": [
    {
      "cell_type": "markdown",
      "metadata": {
        "id": "view-in-github",
        "colab_type": "text"
      },
      "source": [
        "<a href=\"https://colab.research.google.com/github/cam2149/MachineLearningIV/blob/main/aa_iv_2025_i_object_localization.ipynb\" target=\"_parent\"><img src=\"https://colab.research.google.com/assets/colab-badge.svg\" alt=\"Open In Colab\"/></a>"
      ]
    },
    {
      "source": [
        "# IMPORTANT: SOME KAGGLE DATA SOURCES ARE PRIVATE\n",
        "# RUN THIS CELL IN ORDER TO IMPORT YOUR KAGGLE DATA SOURCES.\n",
        "import kagglehub\n",
        "#kagglehub.login()\n",
        "!mkdir -p ~/.kaggle\n",
        "!cp kaggle.json ~/.kaggle/\n",
        "!chmod 600 ~/.kaggle/kaggle.json\n"
      ],
      "metadata": {
        "id": "Q0_3c1AxXtvD"
      },
      "cell_type": "code",
      "outputs": [],
      "execution_count": 1
    },
    {
      "source": [
        "# IMPORTANT: RUN THIS CELL IN ORDER TO IMPORT YOUR KAGGLE DATA SOURCES,\n",
        "# THEN FEEL FREE TO DELETE THIS CELL.\n",
        "# NOTE: THIS NOTEBOOK ENVIRONMENT DIFFERS FROM KAGGLE'S PYTHON\n",
        "# ENVIRONMENT SO THERE MAY BE MISSING LIBRARIES USED BY YOUR\n",
        "# NOTEBOOK.\n",
        "\n",
        "aa_iv_2025_i_object_localization_path = kagglehub.competition_download('aa-iv-2025-i-object-localization')\n",
        "\n",
        "print('Data source import complete.')\n"
      ],
      "metadata": {
        "id": "TGzQmSJFXtvF",
        "outputId": "5ee47d45-bd5a-49db-b7db-c79444c677b0",
        "colab": {
          "base_uri": "https://localhost:8080/"
        }
      },
      "cell_type": "code",
      "outputs": [
        {
          "output_type": "stream",
          "name": "stdout",
          "text": [
            "Downloading from https://www.kaggle.com/api/v1/competitions/data/download-all/aa-iv-2025-i-object-localization...\n"
          ]
        },
        {
          "output_type": "stream",
          "name": "stderr",
          "text": [
            "100%|██████████| 29.1M/29.1M [00:00<00:00, 43.6MB/s]\n"
          ]
        },
        {
          "output_type": "stream",
          "name": "stdout",
          "text": [
            "Extracting files...\n",
            "Data source import complete.\n"
          ]
        }
      ],
      "execution_count": 2
    },
    {
      "cell_type": "code",
      "source": [
        "!kaggle competitions download -c aa-iv-2025-i-object-localization"
      ],
      "metadata": {
        "id": "opbah186Yvk5",
        "outputId": "2899c0c5-c98f-4175-96cb-a4862345a058",
        "colab": {
          "base_uri": "https://localhost:8080/"
        }
      },
      "execution_count": 7,
      "outputs": [
        {
          "output_type": "stream",
          "name": "stdout",
          "text": [
            "Downloading aa-iv-2025-i-object-localization.zip to /content\n",
            " 86% 25.0M/29.1M [00:00<00:00, 119MB/s] \n",
            "100% 29.1M/29.1M [00:00<00:00, 113MB/s]\n"
          ]
        }
      ]
    },
    {
      "cell_type": "code",
      "source": [
        "!unzip aa-iv-2025-i-object-localization.zip"
      ],
      "metadata": {
        "id": "4IEb1jieY4dE",
        "outputId": "80a5080d-1310-4b09-f389-4b07edcbc8eb",
        "colab": {
          "base_uri": "https://localhost:8080/"
        }
      },
      "execution_count": 8,
      "outputs": [
        {
          "output_type": "stream",
          "name": "stdout",
          "text": [
            "Archive:  aa-iv-2025-i-object-localization.zip\n",
            "  inflating: images/images/image_00001.jpeg  \n",
            "  inflating: images/images/image_00002.jpeg  \n",
            "  inflating: images/images/image_00003.jpeg  \n",
            "  inflating: images/images/image_00004.jpeg  \n",
            "  inflating: images/images/image_00005.jpeg  \n",
            "  inflating: images/images/image_00007.jpeg  \n",
            "  inflating: images/images/image_00011.jpeg  \n",
            "  inflating: images/images/image_00012.jpeg  \n",
            "  inflating: images/images/image_00013.jpeg  \n",
            "  inflating: images/images/image_00014.jpeg  \n",
            "  inflating: images/images/image_00015.jpeg  \n",
            "  inflating: images/images/image_00016.jpeg  \n",
            "  inflating: images/images/image_00017.jpeg  \n",
            "  inflating: images/images/image_00018.jpeg  \n",
            "  inflating: images/images/image_00019.jpeg  \n",
            "  inflating: images/images/image_00020.jpeg  \n",
            "  inflating: images/images/image_00021.jpeg  \n",
            "  inflating: images/images/image_00022.jpeg  \n",
            "  inflating: images/images/image_00023.jpeg  \n",
            "  inflating: images/images/image_00024.jpeg  \n",
            "  inflating: images/images/image_00025.jpeg  \n",
            "  inflating: images/images/image_00026.jpeg  \n",
            "  inflating: images/images/image_00027.jpeg  \n",
            "  inflating: images/images/image_00028.jpeg  \n",
            "  inflating: images/images/image_00029.jpeg  \n",
            "  inflating: images/images/image_00030.jpeg  \n",
            "  inflating: images/images/image_00031.jpeg  \n",
            "  inflating: images/images/image_00032.jpeg  \n",
            "  inflating: images/images/image_00033.jpeg  \n",
            "  inflating: images/images/image_00034.jpeg  \n",
            "  inflating: images/images/image_00035.jpeg  \n",
            "  inflating: images/images/image_00036.jpeg  \n",
            "  inflating: images/images/image_00037.jpeg  \n",
            "  inflating: images/images/image_00038.jpeg  \n",
            "  inflating: images/images/image_00039.jpeg  \n",
            "  inflating: images/images/image_00040.jpeg  \n",
            "  inflating: images/images/image_00041.jpeg  \n",
            "  inflating: images/images/image_00042.jpeg  \n",
            "  inflating: images/images/image_00043.jpeg  \n",
            "  inflating: images/images/image_00044.jpeg  \n",
            "  inflating: images/images/image_00045.jpeg  \n",
            "  inflating: images/images/image_00046.jpeg  \n",
            "  inflating: images/images/image_00047.jpeg  \n",
            "  inflating: images/images/image_00048.jpeg  \n",
            "  inflating: images/images/image_00049.jpeg  \n",
            "  inflating: images/images/image_00050.jpeg  \n",
            "  inflating: images/images/image_00051.jpeg  \n",
            "  inflating: images/images/image_00052.jpeg  \n",
            "  inflating: images/images/image_00053.jpeg  \n",
            "  inflating: images/images/image_00054.jpeg  \n",
            "  inflating: images/images/image_00055.jpeg  \n",
            "  inflating: images/images/image_00056.jpeg  \n",
            "  inflating: images/images/image_00057.jpeg  \n",
            "  inflating: images/images/image_00058.jpeg  \n",
            "  inflating: images/images/image_00060.jpeg  \n",
            "  inflating: images/images/image_00061.jpeg  \n",
            "  inflating: images/images/image_00062.jpeg  \n",
            "  inflating: images/images/image_00063.jpeg  \n",
            "  inflating: images/images/image_00064.jpeg  \n",
            "  inflating: images/images/image_00065.jpeg  \n",
            "  inflating: images/images/image_00066.jpeg  \n",
            "  inflating: images/images/image_00067.jpeg  \n",
            "  inflating: images/images/image_00068.jpeg  \n",
            "  inflating: images/images/image_00070.jpeg  \n",
            "  inflating: images/images/image_00071.jpeg  \n",
            "  inflating: images/images/image_00072.jpeg  \n",
            "  inflating: images/images/image_00073.jpeg  \n",
            "  inflating: images/images/image_00074.jpeg  \n",
            "  inflating: images/images/image_00075.jpeg  \n",
            "  inflating: images/images/image_00076.jpeg  \n",
            "  inflating: images/images/image_00077.jpeg  \n",
            "  inflating: images/images/image_00078.jpeg  \n",
            "  inflating: images/images/image_00079.jpeg  \n",
            "  inflating: images/images/image_00080.jpeg  \n",
            "  inflating: images/images/image_00081.jpeg  \n",
            "  inflating: images/images/image_00082.jpeg  \n",
            "  inflating: images/images/image_00083.jpeg  \n",
            "  inflating: images/images/image_00084.jpeg  \n",
            "  inflating: images/images/image_00085.jpeg  \n",
            "  inflating: images/images/image_00086.jpeg  \n",
            "  inflating: images/images/image_00087.jpeg  \n",
            "  inflating: images/images/image_00088.jpeg  \n",
            "  inflating: images/images/image_00089.jpeg  \n",
            "  inflating: images/images/image_00090.jpeg  \n",
            "  inflating: images/images/image_00091.jpeg  \n",
            "  inflating: images/images/image_00092.jpeg  \n",
            "  inflating: images/images/image_00095.jpeg  \n",
            "  inflating: images/images/image_00096.jpeg  \n",
            "  inflating: images/images/image_00097.jpeg  \n",
            "  inflating: images/images/image_00098.jpeg  \n",
            "  inflating: images/images/image_00099.jpeg  \n",
            "  inflating: images/images/image_00100.jpeg  \n",
            "  inflating: images/images/image_00101.jpeg  \n",
            "  inflating: images/images/image_00102.jpeg  \n",
            "  inflating: images/images/image_00103.jpeg  \n",
            "  inflating: images/images/image_00104.jpeg  \n",
            "  inflating: images/images/image_00105.jpeg  \n",
            "  inflating: images/images/image_00106.jpeg  \n",
            "  inflating: images/images/image_00107.jpeg  \n",
            "  inflating: images/images/image_00108.jpeg  \n",
            "  inflating: images/images/image_00109.jpeg  \n",
            "  inflating: images/images/image_00110.jpeg  \n",
            "  inflating: images/images/image_00111.jpeg  \n",
            "  inflating: images/images/image_00112.jpeg  \n",
            "  inflating: images/images/image_00113.jpeg  \n",
            "  inflating: images/images/image_00114.jpeg  \n",
            "  inflating: images/images/image_00115.jpeg  \n",
            "  inflating: images/images/image_00116.jpeg  \n",
            "  inflating: images/images/image_00117.jpeg  \n",
            "  inflating: images/images/image_00119.jpeg  \n",
            "  inflating: images/images/image_00120.jpeg  \n",
            "  inflating: images/images/image_00121.jpeg  \n",
            "  inflating: images/images/image_00122.jpeg  \n",
            "  inflating: images/images/image_00127.jpeg  \n",
            "  inflating: images/images/image_00128.jpeg  \n",
            "  inflating: images/images/image_00129.jpeg  \n",
            "  inflating: images/images/image_00137.jpeg  \n",
            "  inflating: images/images/image_00138.jpeg  \n",
            "  inflating: images/images/image_00139.jpeg  \n",
            "  inflating: images/images/image_00140.jpeg  \n",
            "  inflating: images/images/image_00141.jpeg  \n",
            "  inflating: images/images/image_00147.jpeg  \n",
            "  inflating: images/images/image_00148.jpeg  \n",
            "  inflating: images/images/image_00149.jpeg  \n",
            "  inflating: images/images/image_00157.jpeg  \n",
            "  inflating: images/images/image_00158.jpeg  \n",
            "  inflating: images/images/image_00159.jpeg  \n",
            "  inflating: images/images/image_00160.jpeg  \n",
            "  inflating: images/images/image_00161.jpeg  \n",
            "  inflating: images/images/image_00174.jpeg  \n",
            "  inflating: images/images/image_00177.jpeg  \n",
            "  inflating: images/images/image_00178.jpeg  \n",
            "  inflating: images/images/image_00180.jpeg  \n",
            "  inflating: images/images/image_00181.jpeg  \n",
            "  inflating: images/images/image_00182.jpeg  \n",
            "  inflating: images/images/image_00186.jpeg  \n",
            "  inflating: images/images/image_00191.jpeg  \n",
            "  inflating: images/images/image_00192.jpeg  \n",
            "  inflating: images/images/image_00193.jpeg  \n",
            "  inflating: images/images/image_00194.jpeg  \n",
            "  inflating: images/images/image_00195.jpeg  \n",
            "  inflating: images/images/image_00196.jpeg  \n",
            "  inflating: images/images/image_00197.jpeg  \n",
            "  inflating: images/images/image_00198.jpeg  \n",
            "  inflating: images/images/image_00202.jpeg  \n",
            "  inflating: images/images/image_00203.jpeg  \n",
            "  inflating: images/images/image_00204.jpeg  \n",
            "  inflating: images/images/image_00205.jpeg  \n",
            "  inflating: images/images/image_00206.jpeg  \n",
            "  inflating: images/images/image_00207.jpeg  \n",
            "  inflating: images/images/image_00209.jpeg  \n",
            "  inflating: images/images/image_00210.jpeg  \n",
            "  inflating: images/images/image_00211.jpeg  \n",
            "  inflating: images/images/image_00212.jpeg  \n",
            "  inflating: images/images/image_00213.jpeg  \n",
            "  inflating: images/images/image_00214.jpeg  \n",
            "  inflating: images/images/image_00215.jpeg  \n",
            "  inflating: images/images/image_00216.jpeg  \n",
            "  inflating: images/images/image_00217.jpeg  \n",
            "  inflating: images/images/image_00218.jpeg  \n",
            "  inflating: images/images/image_00219.jpeg  \n",
            "  inflating: images/images/image_00220.jpeg  \n",
            "  inflating: images/images/image_00221.jpeg  \n",
            "  inflating: images/images/image_00222.jpeg  \n",
            "  inflating: images/images/image_00223.jpeg  \n",
            "  inflating: images/images/image_00224.jpeg  \n",
            "  inflating: images/images/image_00225.jpeg  \n",
            "  inflating: images/images/image_00226.jpeg  \n",
            "  inflating: images/images/image_00227.jpeg  \n",
            "  inflating: images/images/image_00231.jpeg  \n",
            "  inflating: images/images/image_00237.jpeg  \n",
            "  inflating: images/images/image_00238.jpeg  \n",
            "  inflating: images/images/image_00239.jpeg  \n",
            "  inflating: images/images/image_00240.jpeg  \n",
            "  inflating: images/images/image_00244.jpeg  \n",
            "  inflating: images/images/image_00245.jpeg  \n",
            "  inflating: images/images/image_00246.jpeg  \n",
            "  inflating: images/images/image_00247.jpeg  \n",
            "  inflating: images/images/image_00248.jpeg  \n",
            "  inflating: images/images/image_00249.jpeg  \n",
            "  inflating: images/images/image_00250.jpeg  \n",
            "  inflating: images/images/image_00264.jpeg  \n",
            "  inflating: images/images/image_00265.jpeg  \n",
            "  inflating: images/images/image_00266.jpeg  \n",
            "  inflating: images/images/image_00267.jpeg  \n",
            "  inflating: images/images/image_00268.jpeg  \n",
            "  inflating: images/images/image_00269.jpeg  \n",
            "  inflating: images/images/image_00270.jpeg  \n",
            "  inflating: images/images/image_00271.jpeg  \n",
            "  inflating: images/images/image_00272.jpeg  \n",
            "  inflating: images/images/image_00273.jpeg  \n",
            "  inflating: images/images/image_00274.jpeg  \n",
            "  inflating: images/images/image_00275.jpeg  \n",
            "  inflating: images/images/image_00276.jpeg  \n",
            "  inflating: images/images/image_00284.jpeg  \n",
            "  inflating: images/images/image_00285.jpeg  \n",
            "  inflating: images/images/image_00286.jpeg  \n",
            "  inflating: images/images/image_00287.jpeg  \n",
            "  inflating: images/images/image_00288.jpeg  \n",
            "  inflating: images/images/image_00289.jpeg  \n",
            "  inflating: images/images/image_00291.jpeg  \n",
            "  inflating: images/images/image_00292.jpeg  \n",
            "  inflating: images/images/image_00293.jpeg  \n",
            "  inflating: images/images/image_00294.jpeg  \n",
            "  inflating: images/images/image_00295.jpeg  \n",
            "  inflating: images/images/image_00296.jpeg  \n",
            "  inflating: images/images/image_00301.jpeg  \n",
            "  inflating: images/images/image_00302.jpeg  \n",
            "  inflating: images/images/image_00308.jpeg  \n",
            "  inflating: images/images/image_00309.jpeg  \n",
            "  inflating: images/images/image_00310.jpeg  \n",
            "  inflating: images/images/image_00311.jpeg  \n",
            "  inflating: images/images/image_00312.jpeg  \n",
            "  inflating: images/images/image_00313.jpeg  \n",
            "  inflating: images/images/image_00314.jpeg  \n",
            "  inflating: images/images/image_00315.jpeg  \n",
            "  inflating: images/images/image_00316.jpeg  \n",
            "  inflating: images/images/image_00317.jpeg  \n",
            "  inflating: images/images/image_00318.jpeg  \n",
            "  inflating: images/images/image_00319.jpeg  \n",
            "  inflating: images/images/image_00328.jpeg  \n",
            "  inflating: images/images/image_00331.jpeg  \n",
            "  inflating: images/images/image_00332.jpeg  \n",
            "  inflating: images/images/image_00333.jpeg  \n",
            "  inflating: images/images/image_00334.jpeg  \n",
            "  inflating: images/images/image_00335.jpeg  \n",
            "  inflating: images/images/image_00336.jpeg  \n",
            "  inflating: images/images/image_00337.jpeg  \n",
            "  inflating: images/images/image_00338.jpeg  \n",
            "  inflating: images/images/image_00339.jpeg  \n",
            "  inflating: images/images/image_00341.jpeg  \n",
            "  inflating: images/images/image_00342.jpeg  \n",
            "  inflating: images/images/image_00343.jpeg  \n",
            "  inflating: images/images/image_00344.jpeg  \n",
            "  inflating: images/images/image_00345.jpeg  \n",
            "  inflating: images/images/image_00346.jpeg  \n",
            "  inflating: images/images/image_00347.jpeg  \n",
            "  inflating: images/images/image_00348.jpeg  \n",
            "  inflating: images/images/image_00349.jpeg  \n",
            "  inflating: images/images/image_00350.jpeg  \n",
            "  inflating: images/images/image_00364.jpeg  \n",
            "  inflating: images/images/image_00365.jpeg  \n",
            "  inflating: images/images/image_00366.jpeg  \n",
            "  inflating: images/images/image_00367.jpeg  \n",
            "  inflating: images/images/image_00368.jpeg  \n",
            "  inflating: images/images/image_00369.jpeg  \n",
            "  inflating: images/images/image_00370.jpeg  \n",
            "  inflating: images/images/image_00371.jpeg  \n",
            "  inflating: images/images/image_00372.jpeg  \n",
            "  inflating: images/images/image_00373.jpeg  \n",
            "  inflating: images/images/image_00374.jpeg  \n",
            "  inflating: images/images/image_00375.jpeg  \n",
            "  inflating: sample_submission.csv   \n",
            "  inflating: test.csv                \n",
            "  inflating: train.csv               \n"
          ]
        }
      ]
    },
    {
      "cell_type": "markdown",
      "source": [
        "# Imports"
      ],
      "metadata": {
        "papermill": {
          "duration": 0.021633,
          "end_time": "2024-11-13T17:32:03.753714",
          "exception": false,
          "start_time": "2024-11-13T17:32:03.732081",
          "status": "completed"
        },
        "tags": [],
        "id": "55vV23qvXtvH"
      }
    },
    {
      "cell_type": "markdown",
      "source": [
        "Here we import the required libraries"
      ],
      "metadata": {
        "papermill": {
          "duration": 0.018934,
          "end_time": "2024-11-13T17:32:03.791989",
          "exception": false,
          "start_time": "2024-11-13T17:32:03.773055",
          "status": "completed"
        },
        "tags": [],
        "id": "H8Kt2vbMXtvI"
      }
    },
    {
      "cell_type": "code",
      "source": [
        "!pip install torchsummary"
      ],
      "metadata": {
        "papermill": {
          "duration": 12.744006,
          "end_time": "2024-11-13T17:32:16.555337",
          "exception": false,
          "start_time": "2024-11-13T17:32:03.811331",
          "status": "completed"
        },
        "tags": [],
        "trusted": true,
        "execution": {
          "iopub.status.busy": "2025-01-25T02:23:43.920424Z",
          "iopub.execute_input": "2025-01-25T02:23:43.92061Z",
          "iopub.status.idle": "2025-01-25T02:23:48.045014Z",
          "shell.execute_reply.started": "2025-01-25T02:23:43.920591Z",
          "shell.execute_reply": "2025-01-25T02:23:48.044155Z"
        },
        "id": "wdUklqdeXtvJ",
        "outputId": "514d0783-e9d9-46e8-a5b2-fa21d82715be",
        "colab": {
          "base_uri": "https://localhost:8080/"
        }
      },
      "outputs": [
        {
          "output_type": "stream",
          "name": "stdout",
          "text": [
            "Requirement already satisfied: torchsummary in /usr/local/lib/python3.11/dist-packages (1.5.1)\n"
          ]
        }
      ],
      "execution_count": 3
    },
    {
      "cell_type": "code",
      "source": [
        "# This Python 3 environment comes with many helpful analytics libraries installed\n",
        "# It is defined by the kaggle/python Docker image: https://github.com/kaggle/docker-python\n",
        "# For example, here's several helpful packages to load\n",
        "from __future__ import print_function, division\n",
        "\n",
        "from tqdm import tqdm, tqdm_notebook\n",
        "tqdm_notebook().pandas()\n",
        "\n",
        "\n",
        "import numpy as np # linear algebra\n",
        "import pandas as pd # data processing, CSV file I/O (e.g. pd.read_csv)\n",
        "from numpy.typing import NDArray\n",
        "from functools import reduce\n",
        "from itertools import islice\n",
        "import wandb\n",
        "import math\n",
        "from itertools import chain\n",
        "import copy\n",
        "from PIL import Image\n",
        "\n",
        "import torch\n",
        "from torch import nn\n",
        "from torch import Tensor\n",
        "from torch.optim import Optimizer\n",
        "import torch.nn.functional as F\n",
        "import torchvision\n",
        "from torch.utils.data import Dataset, DataLoader\n",
        "from torchvision import transforms, utils\n",
        "from torchsummary import summary\n",
        "# Import albumentations library in order to -use pre-built augmentations\n",
        "import albumentations as A\n",
        "\n",
        "from sklearn.model_selection import train_test_split\n",
        "from multiprocessing import cpu_count\n",
        "\n",
        "import os\n",
        "import torch\n",
        "import os.path as osp\n",
        "from skimage import io, transform\n",
        "import matplotlib.pyplot as plt\n",
        "import typing as ty\n",
        "import cv2\n",
        "\n",
        "\n",
        "plt.ion()   # interactive mode\n",
        "\n",
        "# Input data files are available in the read-only \"../input/\" directory\n",
        "# For example, running this (by clicking run or pressing Shift+Enter) will list all files under the input directory\n",
        "\n",
        "for root, dirs, filenames in os.walk('/content'):\n",
        "    for i, filepath in enumerate(filenames):\n",
        "        if i >= 10:\n",
        "            print()\n",
        "            break\n",
        "        print(osp.join(root, filepath))\n",
        "\n",
        "# You can write up to 20GB to the current directory (/kaggle/working/) that gets preserved as output when you create a version using \"Save & Run All\"\n",
        "# You can also write temporary files to /kaggle/temp/, but they won't be saved outside of the current session"
      ],
      "metadata": {
        "papermill": {
          "duration": 9.315525,
          "end_time": "2024-11-13T17:32:25.890752",
          "exception": false,
          "start_time": "2024-11-13T17:32:16.575227",
          "status": "completed"
        },
        "tags": [],
        "trusted": true,
        "execution": {
          "iopub.status.busy": "2025-01-25T02:23:58.51105Z",
          "iopub.execute_input": "2025-01-25T02:23:58.51134Z",
          "iopub.status.idle": "2025-01-25T02:24:08.464617Z",
          "shell.execute_reply.started": "2025-01-25T02:23:58.511314Z",
          "shell.execute_reply": "2025-01-25T02:24:08.463906Z"
        },
        "id": "euN6NAG7XtvJ",
        "outputId": "dd3b2ff8-9cf2-48bd-ed00-a6f41beec858",
        "colab": {
          "base_uri": "https://localhost:8080/",
          "height": 806,
          "referenced_widgets": [
            "8a0c4482fcbe40da965b29cb1e5b2d7a",
            "00cace0203714857bf06286549206d4f",
            "4298aa0207054a6583af1a8d28b6991c",
            "86eb1bacf84141f082a0b13fccccac38",
            "fae94cd03e7842ddbdf818153f907724",
            "4d250bca23a645c98f67c76bcb4b0b81",
            "df10c7415e994d88ba1039a94aefc291",
            "d7494d6de7d04506bcda2016a3036ea0",
            "30066485dc4942baa3270a11d0628c65",
            "f0db7be83486461897a0488a41709ed7",
            "83bb69c161f94efca14eed07690a6b2e"
          ]
        }
      },
      "outputs": [
        {
          "output_type": "stream",
          "name": "stderr",
          "text": [
            "<ipython-input-10-ad1c377071de>:7: TqdmDeprecationWarning: This function will be removed in tqdm==5.0.0\n",
            "Please use `tqdm.notebook.tqdm` instead of `tqdm.tqdm_notebook`\n",
            "  tqdm_notebook().pandas()\n"
          ]
        },
        {
          "output_type": "display_data",
          "data": {
            "text/plain": [
              "0it [00:00, ?it/s]"
            ],
            "application/vnd.jupyter.widget-view+json": {
              "version_major": 2,
              "version_minor": 0,
              "model_id": "8a0c4482fcbe40da965b29cb1e5b2d7a"
            }
          },
          "metadata": {}
        },
        {
          "output_type": "stream",
          "name": "stdout",
          "text": [
            "/content/kaggle.json\n",
            "/content/test.csv\n",
            "/content/train.csv\n",
            "/content/aa-iv-2025-i-object-localization.zip\n",
            "/content/sample_submission.csv\n",
            "/content/.config/gce\n",
            "/content/.config/.last_update_check.json\n",
            "/content/.config/.last_opt_in_prompt.yaml\n",
            "/content/.config/hidden_gcloud_config_universe_descriptor_data_cache_configs.db\n",
            "/content/.config/.last_survey_prompt.yaml\n",
            "/content/.config/active_config\n",
            "/content/.config/config_sentinel\n",
            "/content/.config/default_configs.db\n",
            "/content/.config/configurations/config_default\n",
            "/content/.config/logs/2025.01.23/14.23.48.900700.log\n",
            "/content/.config/logs/2025.01.23/14.23.47.935211.log\n",
            "/content/.config/logs/2025.01.23/14.23.18.284998.log\n",
            "/content/.config/logs/2025.01.23/14.23.38.428932.log\n",
            "/content/.config/logs/2025.01.23/14.23.59.968748.log\n",
            "/content/.config/logs/2025.01.23/14.23.59.299874.log\n",
            "/content/images/images/image_00023.jpeg\n",
            "/content/images/images/image_00096.jpeg\n",
            "/content/images/images/image_00103.jpeg\n",
            "/content/images/images/image_00031.jpeg\n",
            "/content/images/images/image_00276.jpeg\n",
            "/content/images/images/image_00063.jpeg\n",
            "/content/images/images/image_00347.jpeg\n",
            "/content/images/images/image_00089.jpeg\n",
            "/content/images/images/image_00141.jpeg\n",
            "/content/images/images/image_00296.jpeg\n",
            "\n",
            "/content/sample_data/anscombe.json\n",
            "/content/sample_data/README.md\n",
            "/content/sample_data/kaggle.json\n",
            "/content/sample_data/mnist_train_small.csv\n",
            "/content/sample_data/mnist_test.csv\n",
            "/content/sample_data/california_housing_train.csv\n",
            "/content/sample_data/california_housing_test.csv\n"
          ]
        }
      ],
      "execution_count": 10
    },
    {
      "cell_type": "markdown",
      "source": [
        "## Creating dataset structure"
      ],
      "metadata": {
        "papermill": {
          "duration": 0.025262,
          "end_time": "2024-11-13T17:32:25.940491",
          "exception": false,
          "start_time": "2024-11-13T17:32:25.915229",
          "status": "completed"
        },
        "tags": [],
        "id": "Ir_mrRL_XtvK"
      }
    },
    {
      "cell_type": "code",
      "source": [
        "torch.manual_seed(32)\n",
        "device = 'cuda' if torch.cuda.is_available() else 'cpu'\n",
        "print(f'Using {device}')\n",
        "test = torch.ones((100, 100)).to(device)\n",
        "del test\n",
        "torch.cuda.empty_cache()"
      ],
      "metadata": {
        "papermill": {
          "duration": 0.284911,
          "end_time": "2024-11-13T17:32:26.248989",
          "exception": false,
          "start_time": "2024-11-13T17:32:25.964078",
          "status": "completed"
        },
        "tags": [],
        "trusted": true,
        "execution": {
          "iopub.status.busy": "2025-01-25T02:24:21.525202Z",
          "iopub.execute_input": "2025-01-25T02:24:21.525696Z",
          "iopub.status.idle": "2025-01-25T02:24:21.787172Z",
          "shell.execute_reply.started": "2025-01-25T02:24:21.525666Z",
          "shell.execute_reply": "2025-01-25T02:24:21.786341Z"
        },
        "id": "YPOivfJJXtvL",
        "outputId": "93e65db5-cf2f-4fc2-81d3-79dfa803c058",
        "colab": {
          "base_uri": "https://localhost:8080/"
        }
      },
      "outputs": [
        {
          "output_type": "stream",
          "name": "stdout",
          "text": [
            "Using cpu\n"
          ]
        }
      ],
      "execution_count": 11
    },
    {
      "cell_type": "markdown",
      "source": [
        "This is done in order to control randomness."
      ],
      "metadata": {
        "papermill": {
          "duration": 0.019671,
          "end_time": "2024-11-13T17:32:26.289527",
          "exception": false,
          "start_time": "2024-11-13T17:32:26.269856",
          "status": "completed"
        },
        "tags": [],
        "id": "-8cHdayLXtvM"
      }
    },
    {
      "cell_type": "code",
      "source": [
        "DATA_DIR = '/kaggle/input/aa-iv-2025-i-object-localization/'\n",
        "WORK_DIR = '/kaggle/working'\n",
        "BATCH_SIZE = 32\n",
        "\n",
        "img_dir = osp.join(DATA_DIR, \"images/images\")\n",
        "\n",
        "df = pd.read_csv(osp.join(DATA_DIR, \"train.csv\"))\n",
        "\n",
        "obj2id  = {'f16':0,'cougar':1,'chinook':2,'ah64':3,'f15':4,'seahawk':5}\n",
        "\n",
        "id2obj  = {0:'f16',1:'cougar',2:'chinook',3:'ah64',4:'f15',5:'seahawk'}\n",
        "\n",
        "df[\"class_id\"] = df[\"class\"].map(obj2id)\n",
        "\n",
        "columns_f=['filename','xmin','ymin','xmax','ymax','class','class_id']\n",
        "\n",
        "df= df[columns_f].copy()"
      ],
      "metadata": {
        "papermill": {
          "duration": 0.04648,
          "end_time": "2024-11-13T17:32:26.356236",
          "exception": false,
          "start_time": "2024-11-13T17:32:26.309756",
          "status": "completed"
        },
        "tags": [],
        "trusted": true,
        "execution": {
          "iopub.status.busy": "2025-01-25T02:24:24.550654Z",
          "iopub.execute_input": "2025-01-25T02:24:24.550986Z",
          "iopub.status.idle": "2025-01-25T02:24:24.579562Z",
          "shell.execute_reply.started": "2025-01-25T02:24:24.550959Z",
          "shell.execute_reply": "2025-01-25T02:24:24.578683Z"
        },
        "id": "WMgUVh3wXtvM",
        "outputId": "42a632d6-3a51-4c65-8b63-6e28fc0e91e8",
        "colab": {
          "base_uri": "https://localhost:8080/",
          "height": 375
        }
      },
      "outputs": [
        {
          "output_type": "error",
          "ename": "FileNotFoundError",
          "evalue": "[Errno 2] No such file or directory: '/kaggle/input/aa-iv-2025-i-object-localization/train.csv'",
          "traceback": [
            "\u001b[0;31m---------------------------------------------------------------------------\u001b[0m",
            "\u001b[0;31mFileNotFoundError\u001b[0m                         Traceback (most recent call last)",
            "\u001b[0;32m<ipython-input-6-45ecbcb23343>\u001b[0m in \u001b[0;36m<cell line: 0>\u001b[0;34m()\u001b[0m\n\u001b[1;32m      5\u001b[0m \u001b[0mimg_dir\u001b[0m \u001b[0;34m=\u001b[0m \u001b[0mosp\u001b[0m\u001b[0;34m.\u001b[0m\u001b[0mjoin\u001b[0m\u001b[0;34m(\u001b[0m\u001b[0mDATA_DIR\u001b[0m\u001b[0;34m,\u001b[0m \u001b[0;34m\"images/images\"\u001b[0m\u001b[0;34m)\u001b[0m\u001b[0;34m\u001b[0m\u001b[0;34m\u001b[0m\u001b[0m\n\u001b[1;32m      6\u001b[0m \u001b[0;34m\u001b[0m\u001b[0m\n\u001b[0;32m----> 7\u001b[0;31m \u001b[0mdf\u001b[0m \u001b[0;34m=\u001b[0m \u001b[0mpd\u001b[0m\u001b[0;34m.\u001b[0m\u001b[0mread_csv\u001b[0m\u001b[0;34m(\u001b[0m\u001b[0mosp\u001b[0m\u001b[0;34m.\u001b[0m\u001b[0mjoin\u001b[0m\u001b[0;34m(\u001b[0m\u001b[0mDATA_DIR\u001b[0m\u001b[0;34m,\u001b[0m \u001b[0;34m\"train.csv\"\u001b[0m\u001b[0;34m)\u001b[0m\u001b[0;34m)\u001b[0m\u001b[0;34m\u001b[0m\u001b[0;34m\u001b[0m\u001b[0m\n\u001b[0m\u001b[1;32m      8\u001b[0m \u001b[0;34m\u001b[0m\u001b[0m\n\u001b[1;32m      9\u001b[0m \u001b[0mobj2id\u001b[0m  \u001b[0;34m=\u001b[0m \u001b[0;34m{\u001b[0m\u001b[0;34m'f16'\u001b[0m\u001b[0;34m:\u001b[0m\u001b[0;36m0\u001b[0m\u001b[0;34m,\u001b[0m\u001b[0;34m'cougar'\u001b[0m\u001b[0;34m:\u001b[0m\u001b[0;36m1\u001b[0m\u001b[0;34m,\u001b[0m\u001b[0;34m'chinook'\u001b[0m\u001b[0;34m:\u001b[0m\u001b[0;36m2\u001b[0m\u001b[0;34m,\u001b[0m\u001b[0;34m'ah64'\u001b[0m\u001b[0;34m:\u001b[0m\u001b[0;36m3\u001b[0m\u001b[0;34m,\u001b[0m\u001b[0;34m'f15'\u001b[0m\u001b[0;34m:\u001b[0m\u001b[0;36m4\u001b[0m\u001b[0;34m,\u001b[0m\u001b[0;34m'seahawk'\u001b[0m\u001b[0;34m:\u001b[0m\u001b[0;36m5\u001b[0m\u001b[0;34m}\u001b[0m\u001b[0;34m\u001b[0m\u001b[0;34m\u001b[0m\u001b[0m\n",
            "\u001b[0;32m/usr/local/lib/python3.11/dist-packages/pandas/io/parsers/readers.py\u001b[0m in \u001b[0;36mread_csv\u001b[0;34m(filepath_or_buffer, sep, delimiter, header, names, index_col, usecols, dtype, engine, converters, true_values, false_values, skipinitialspace, skiprows, skipfooter, nrows, na_values, keep_default_na, na_filter, verbose, skip_blank_lines, parse_dates, infer_datetime_format, keep_date_col, date_parser, date_format, dayfirst, cache_dates, iterator, chunksize, compression, thousands, decimal, lineterminator, quotechar, quoting, doublequote, escapechar, comment, encoding, encoding_errors, dialect, on_bad_lines, delim_whitespace, low_memory, memory_map, float_precision, storage_options, dtype_backend)\u001b[0m\n\u001b[1;32m   1024\u001b[0m     \u001b[0mkwds\u001b[0m\u001b[0;34m.\u001b[0m\u001b[0mupdate\u001b[0m\u001b[0;34m(\u001b[0m\u001b[0mkwds_defaults\u001b[0m\u001b[0;34m)\u001b[0m\u001b[0;34m\u001b[0m\u001b[0;34m\u001b[0m\u001b[0m\n\u001b[1;32m   1025\u001b[0m \u001b[0;34m\u001b[0m\u001b[0m\n\u001b[0;32m-> 1026\u001b[0;31m     \u001b[0;32mreturn\u001b[0m \u001b[0m_read\u001b[0m\u001b[0;34m(\u001b[0m\u001b[0mfilepath_or_buffer\u001b[0m\u001b[0;34m,\u001b[0m \u001b[0mkwds\u001b[0m\u001b[0;34m)\u001b[0m\u001b[0;34m\u001b[0m\u001b[0;34m\u001b[0m\u001b[0m\n\u001b[0m\u001b[1;32m   1027\u001b[0m \u001b[0;34m\u001b[0m\u001b[0m\n\u001b[1;32m   1028\u001b[0m \u001b[0;34m\u001b[0m\u001b[0m\n",
            "\u001b[0;32m/usr/local/lib/python3.11/dist-packages/pandas/io/parsers/readers.py\u001b[0m in \u001b[0;36m_read\u001b[0;34m(filepath_or_buffer, kwds)\u001b[0m\n\u001b[1;32m    618\u001b[0m \u001b[0;34m\u001b[0m\u001b[0m\n\u001b[1;32m    619\u001b[0m     \u001b[0;31m# Create the parser.\u001b[0m\u001b[0;34m\u001b[0m\u001b[0;34m\u001b[0m\u001b[0m\n\u001b[0;32m--> 620\u001b[0;31m     \u001b[0mparser\u001b[0m \u001b[0;34m=\u001b[0m \u001b[0mTextFileReader\u001b[0m\u001b[0;34m(\u001b[0m\u001b[0mfilepath_or_buffer\u001b[0m\u001b[0;34m,\u001b[0m \u001b[0;34m**\u001b[0m\u001b[0mkwds\u001b[0m\u001b[0;34m)\u001b[0m\u001b[0;34m\u001b[0m\u001b[0;34m\u001b[0m\u001b[0m\n\u001b[0m\u001b[1;32m    621\u001b[0m \u001b[0;34m\u001b[0m\u001b[0m\n\u001b[1;32m    622\u001b[0m     \u001b[0;32mif\u001b[0m \u001b[0mchunksize\u001b[0m \u001b[0;32mor\u001b[0m \u001b[0miterator\u001b[0m\u001b[0;34m:\u001b[0m\u001b[0;34m\u001b[0m\u001b[0;34m\u001b[0m\u001b[0m\n",
            "\u001b[0;32m/usr/local/lib/python3.11/dist-packages/pandas/io/parsers/readers.py\u001b[0m in \u001b[0;36m__init__\u001b[0;34m(self, f, engine, **kwds)\u001b[0m\n\u001b[1;32m   1618\u001b[0m \u001b[0;34m\u001b[0m\u001b[0m\n\u001b[1;32m   1619\u001b[0m         \u001b[0mself\u001b[0m\u001b[0;34m.\u001b[0m\u001b[0mhandles\u001b[0m\u001b[0;34m:\u001b[0m \u001b[0mIOHandles\u001b[0m \u001b[0;34m|\u001b[0m \u001b[0;32mNone\u001b[0m \u001b[0;34m=\u001b[0m \u001b[0;32mNone\u001b[0m\u001b[0;34m\u001b[0m\u001b[0;34m\u001b[0m\u001b[0m\n\u001b[0;32m-> 1620\u001b[0;31m         \u001b[0mself\u001b[0m\u001b[0;34m.\u001b[0m\u001b[0m_engine\u001b[0m \u001b[0;34m=\u001b[0m \u001b[0mself\u001b[0m\u001b[0;34m.\u001b[0m\u001b[0m_make_engine\u001b[0m\u001b[0;34m(\u001b[0m\u001b[0mf\u001b[0m\u001b[0;34m,\u001b[0m \u001b[0mself\u001b[0m\u001b[0;34m.\u001b[0m\u001b[0mengine\u001b[0m\u001b[0;34m)\u001b[0m\u001b[0;34m\u001b[0m\u001b[0;34m\u001b[0m\u001b[0m\n\u001b[0m\u001b[1;32m   1621\u001b[0m \u001b[0;34m\u001b[0m\u001b[0m\n\u001b[1;32m   1622\u001b[0m     \u001b[0;32mdef\u001b[0m \u001b[0mclose\u001b[0m\u001b[0;34m(\u001b[0m\u001b[0mself\u001b[0m\u001b[0;34m)\u001b[0m \u001b[0;34m->\u001b[0m \u001b[0;32mNone\u001b[0m\u001b[0;34m:\u001b[0m\u001b[0;34m\u001b[0m\u001b[0;34m\u001b[0m\u001b[0m\n",
            "\u001b[0;32m/usr/local/lib/python3.11/dist-packages/pandas/io/parsers/readers.py\u001b[0m in \u001b[0;36m_make_engine\u001b[0;34m(self, f, engine)\u001b[0m\n\u001b[1;32m   1878\u001b[0m                 \u001b[0;32mif\u001b[0m \u001b[0;34m\"b\"\u001b[0m \u001b[0;32mnot\u001b[0m \u001b[0;32min\u001b[0m \u001b[0mmode\u001b[0m\u001b[0;34m:\u001b[0m\u001b[0;34m\u001b[0m\u001b[0;34m\u001b[0m\u001b[0m\n\u001b[1;32m   1879\u001b[0m                     \u001b[0mmode\u001b[0m \u001b[0;34m+=\u001b[0m \u001b[0;34m\"b\"\u001b[0m\u001b[0;34m\u001b[0m\u001b[0;34m\u001b[0m\u001b[0m\n\u001b[0;32m-> 1880\u001b[0;31m             self.handles = get_handle(\n\u001b[0m\u001b[1;32m   1881\u001b[0m                 \u001b[0mf\u001b[0m\u001b[0;34m,\u001b[0m\u001b[0;34m\u001b[0m\u001b[0;34m\u001b[0m\u001b[0m\n\u001b[1;32m   1882\u001b[0m                 \u001b[0mmode\u001b[0m\u001b[0;34m,\u001b[0m\u001b[0;34m\u001b[0m\u001b[0;34m\u001b[0m\u001b[0m\n",
            "\u001b[0;32m/usr/local/lib/python3.11/dist-packages/pandas/io/common.py\u001b[0m in \u001b[0;36mget_handle\u001b[0;34m(path_or_buf, mode, encoding, compression, memory_map, is_text, errors, storage_options)\u001b[0m\n\u001b[1;32m    871\u001b[0m         \u001b[0;32mif\u001b[0m \u001b[0mioargs\u001b[0m\u001b[0;34m.\u001b[0m\u001b[0mencoding\u001b[0m \u001b[0;32mand\u001b[0m \u001b[0;34m\"b\"\u001b[0m \u001b[0;32mnot\u001b[0m \u001b[0;32min\u001b[0m \u001b[0mioargs\u001b[0m\u001b[0;34m.\u001b[0m\u001b[0mmode\u001b[0m\u001b[0;34m:\u001b[0m\u001b[0;34m\u001b[0m\u001b[0;34m\u001b[0m\u001b[0m\n\u001b[1;32m    872\u001b[0m             \u001b[0;31m# Encoding\u001b[0m\u001b[0;34m\u001b[0m\u001b[0;34m\u001b[0m\u001b[0m\n\u001b[0;32m--> 873\u001b[0;31m             handle = open(\n\u001b[0m\u001b[1;32m    874\u001b[0m                 \u001b[0mhandle\u001b[0m\u001b[0;34m,\u001b[0m\u001b[0;34m\u001b[0m\u001b[0;34m\u001b[0m\u001b[0m\n\u001b[1;32m    875\u001b[0m                 \u001b[0mioargs\u001b[0m\u001b[0;34m.\u001b[0m\u001b[0mmode\u001b[0m\u001b[0;34m,\u001b[0m\u001b[0;34m\u001b[0m\u001b[0;34m\u001b[0m\u001b[0m\n",
            "\u001b[0;31mFileNotFoundError\u001b[0m: [Errno 2] No such file or directory: '/kaggle/input/aa-iv-2025-i-object-localization/train.csv'"
          ]
        }
      ],
      "execution_count": 6
    },
    {
      "cell_type": "code",
      "source": [
        "img_filename = osp.join(DATA_DIR, \"images/images\",'image_00077.jpeg')\n",
        "\n",
        "img1 = cv2.imread(img_filename)\n",
        "img1 = cv2.cvtColor(img1, cv2.COLOR_BGR2RGB)\n",
        "img2 = io.imread(img_filename) # no necesita bgr2rgb"
      ],
      "metadata": {
        "trusted": true,
        "execution": {
          "iopub.status.busy": "2025-01-25T02:24:27.781671Z",
          "iopub.execute_input": "2025-01-25T02:24:27.782003Z",
          "iopub.status.idle": "2025-01-25T02:24:27.892027Z",
          "shell.execute_reply.started": "2025-01-25T02:24:27.781975Z",
          "shell.execute_reply": "2025-01-25T02:24:27.891166Z"
        },
        "id": "QJ_fc-scXtvN"
      },
      "outputs": [],
      "execution_count": null
    },
    {
      "cell_type": "code",
      "source": [
        "print(img1.shape)\n",
        "print(img1.transpose((2,0,1)).shape)"
      ],
      "metadata": {
        "trusted": true,
        "execution": {
          "iopub.status.busy": "2025-01-25T02:24:30.382526Z",
          "iopub.execute_input": "2025-01-25T02:24:30.382865Z",
          "iopub.status.idle": "2025-01-25T02:24:30.387495Z",
          "shell.execute_reply.started": "2025-01-25T02:24:30.382838Z",
          "shell.execute_reply": "2025-01-25T02:24:30.386905Z"
        },
        "id": "qn62zDW_XtvO"
      },
      "outputs": [],
      "execution_count": null
    },
    {
      "cell_type": "code",
      "source": [
        "list_image = list(df.filename)\n",
        "data_shape = []\n",
        "data_dim = []\n",
        "data_w = []\n",
        "data_h = []\n",
        "\n",
        "for i in tqdm(list_image): ## tqdm(list_image)dura 40 segundos\n",
        "    ruta_imagen = osp.join(img_dir, i)\n",
        "    imagen = io.imread(ruta_imagen)\n",
        "    shapes = imagen.shape\n",
        "    dimen = imagen.ndim\n",
        "    imagen = Image.open(ruta_imagen)\n",
        "    w, h = imagen.size\n",
        "    data_w.append(w)\n",
        "    data_h.append(h)\n",
        "    data_shape.append(shapes)\n",
        "    data_dim.append(dimen)\n",
        "\n",
        "data_w_h = pd.DataFrame([list_image,data_shape,data_dim,data_w,data_h]).T.rename(columns={0:'filename',1:'shapes',2:'ndim',3:'w',4:'h'})"
      ],
      "metadata": {
        "trusted": true,
        "execution": {
          "iopub.status.busy": "2025-01-25T02:24:32.702455Z",
          "iopub.execute_input": "2025-01-25T02:24:32.702787Z",
          "iopub.status.idle": "2025-01-25T02:24:34.979028Z",
          "shell.execute_reply.started": "2025-01-25T02:24:32.702758Z",
          "shell.execute_reply": "2025-01-25T02:24:34.978299Z"
        },
        "id": "4LLk7YvFXtvP"
      },
      "outputs": [],
      "execution_count": null
    },
    {
      "cell_type": "code",
      "source": [
        "data_w_h['w'].value_counts()"
      ],
      "metadata": {
        "trusted": true,
        "execution": {
          "iopub.status.busy": "2025-01-25T02:24:38.528233Z",
          "iopub.execute_input": "2025-01-25T02:24:38.528514Z",
          "iopub.status.idle": "2025-01-25T02:24:38.539397Z",
          "shell.execute_reply.started": "2025-01-25T02:24:38.528492Z",
          "shell.execute_reply": "2025-01-25T02:24:38.538524Z"
        },
        "id": "vjpEwTNKXtvP"
      },
      "outputs": [],
      "execution_count": null
    },
    {
      "cell_type": "code",
      "source": [
        "data_w_h['ndim'].value_counts()\n"
      ],
      "metadata": {
        "trusted": true,
        "execution": {
          "iopub.status.busy": "2025-01-25T02:24:40.509755Z",
          "iopub.execute_input": "2025-01-25T02:24:40.510068Z",
          "iopub.status.idle": "2025-01-25T02:24:40.51627Z",
          "shell.execute_reply.started": "2025-01-25T02:24:40.510044Z",
          "shell.execute_reply": "2025-01-25T02:24:40.515409Z"
        },
        "id": "CVYPCAzcXtvQ"
      },
      "outputs": [],
      "execution_count": null
    },
    {
      "cell_type": "code",
      "source": [
        "df['class_id'].value_counts()"
      ],
      "metadata": {
        "trusted": true,
        "execution": {
          "iopub.status.busy": "2025-01-25T02:24:43.967383Z",
          "iopub.execute_input": "2025-01-25T02:24:43.967774Z",
          "iopub.status.idle": "2025-01-25T02:24:43.97626Z",
          "shell.execute_reply.started": "2025-01-25T02:24:43.967742Z",
          "shell.execute_reply": "2025-01-25T02:24:43.975465Z"
        },
        "id": "lbq-TibOXtvQ"
      },
      "outputs": [],
      "execution_count": null
    },
    {
      "cell_type": "code",
      "source": [
        "df['class'].value_counts()"
      ],
      "metadata": {
        "trusted": true,
        "execution": {
          "iopub.status.busy": "2025-01-25T02:24:45.760431Z",
          "iopub.execute_input": "2025-01-25T02:24:45.760755Z",
          "iopub.status.idle": "2025-01-25T02:24:45.766917Z",
          "shell.execute_reply.started": "2025-01-25T02:24:45.760726Z",
          "shell.execute_reply": "2025-01-25T02:24:45.766009Z"
        },
        "id": "neHUe15YXtvR"
      },
      "outputs": [],
      "execution_count": null
    },
    {
      "cell_type": "code",
      "source": [
        "df[df['xmin']>=df['xmax']].shape, df[df['ymin']>=df['ymax']].shape"
      ],
      "metadata": {
        "trusted": true,
        "execution": {
          "iopub.status.busy": "2025-01-25T02:24:48.02525Z",
          "iopub.execute_input": "2025-01-25T02:24:48.025586Z",
          "iopub.status.idle": "2025-01-25T02:24:48.032246Z",
          "shell.execute_reply.started": "2025-01-25T02:24:48.025555Z",
          "shell.execute_reply": "2025-01-25T02:24:48.031541Z"
        },
        "id": "Oy1mxlC2XtvR"
      },
      "outputs": [],
      "execution_count": null
    },
    {
      "cell_type": "code",
      "source": [
        "h_real=720\n",
        "w_real=1280\n",
        "h, w, c = 255, 400, 3 # The heigh, width and number of channels of each image"
      ],
      "metadata": {
        "trusted": true,
        "execution": {
          "iopub.status.busy": "2025-01-25T02:24:49.950759Z",
          "iopub.execute_input": "2025-01-25T02:24:49.951111Z",
          "iopub.status.idle": "2025-01-25T02:24:49.954969Z",
          "shell.execute_reply.started": "2025-01-25T02:24:49.951084Z",
          "shell.execute_reply": "2025-01-25T02:24:49.95389Z"
        },
        "id": "zxdrU3ZnXtvR"
      },
      "outputs": [],
      "execution_count": null
    },
    {
      "cell_type": "markdown",
      "source": [
        "normalizamos los bboxes"
      ],
      "metadata": {
        "id": "XKqbL39KXtvS"
      }
    },
    {
      "cell_type": "code",
      "source": [
        "print(df[[\"ymin\", \"ymax\", \"xmin\", \"xmax\"]].describe())"
      ],
      "metadata": {
        "trusted": true,
        "execution": {
          "iopub.status.busy": "2025-01-25T02:24:52.910202Z",
          "iopub.execute_input": "2025-01-25T02:24:52.910653Z",
          "iopub.status.idle": "2025-01-25T02:24:52.933275Z",
          "shell.execute_reply.started": "2025-01-25T02:24:52.910611Z",
          "shell.execute_reply": "2025-01-25T02:24:52.932373Z"
        },
        "id": "YaWb1TM6XtvS"
      },
      "outputs": [],
      "execution_count": null
    },
    {
      "cell_type": "code",
      "source": [
        "# Normalizar las columnas ymin, ymax, xmin, xmax\n",
        "df[[\"ymin\", \"ymax\"]] = df[[\"ymin\", \"ymax\"]].div(h_real, axis=0)\n",
        "df[[\"xmin\", \"xmax\"]] = df[[\"xmin\", \"xmax\"]].div(w_real, axis=0)\n"
      ],
      "metadata": {
        "papermill": {
          "duration": 0.030265,
          "end_time": "2024-11-13T17:32:26.519812",
          "exception": false,
          "start_time": "2024-11-13T17:32:26.489547",
          "status": "completed"
        },
        "tags": [],
        "trusted": true,
        "execution": {
          "iopub.status.busy": "2025-01-25T02:24:59.134324Z",
          "iopub.execute_input": "2025-01-25T02:24:59.134621Z",
          "iopub.status.idle": "2025-01-25T02:24:59.140934Z",
          "shell.execute_reply.started": "2025-01-25T02:24:59.134597Z",
          "shell.execute_reply": "2025-01-25T02:24:59.13997Z"
        },
        "id": "SlLd2MvCXtvS"
      },
      "outputs": [],
      "execution_count": null
    },
    {
      "cell_type": "code",
      "source": [
        "print(df[[\"ymin\", \"ymax\", \"xmin\", \"xmax\"]].describe())"
      ],
      "metadata": {
        "trusted": true,
        "execution": {
          "iopub.status.busy": "2025-01-25T02:25:01.807256Z",
          "iopub.execute_input": "2025-01-25T02:25:01.807548Z",
          "iopub.status.idle": "2025-01-25T02:25:01.823413Z",
          "shell.execute_reply.started": "2025-01-25T02:25:01.807524Z",
          "shell.execute_reply": "2025-01-25T02:25:01.82252Z"
        },
        "id": "4ZK5tSCXXtvT"
      },
      "outputs": [],
      "execution_count": null
    },
    {
      "cell_type": "code",
      "source": [
        "train_df, val_df = train_test_split(\n",
        "    df, stratify=df['class_id'], test_size=0.25, random_state=42\n",
        ")\n",
        "\n",
        "print(train_df.shape)\n",
        "print(val_df.shape)\n"
      ],
      "metadata": {
        "papermill": {
          "duration": 0.033062,
          "end_time": "2024-11-13T17:32:26.57283",
          "exception": false,
          "start_time": "2024-11-13T17:32:26.539768",
          "status": "completed"
        },
        "tags": [],
        "trusted": true,
        "execution": {
          "iopub.status.busy": "2025-01-25T02:25:03.797752Z",
          "iopub.execute_input": "2025-01-25T02:25:03.798116Z",
          "iopub.status.idle": "2025-01-25T02:25:03.806135Z",
          "shell.execute_reply.started": "2025-01-25T02:25:03.798089Z",
          "shell.execute_reply": "2025-01-25T02:25:03.805343Z"
        },
        "id": "g3s8V93OXtvT"
      },
      "outputs": [],
      "execution_count": null
    },
    {
      "cell_type": "code",
      "source": [
        "classes = df[\"class\"].unique()\n",
        "classes"
      ],
      "metadata": {
        "papermill": {
          "duration": 0.032307,
          "end_time": "2024-11-13T17:32:26.625163",
          "exception": false,
          "start_time": "2024-11-13T17:32:26.592856",
          "status": "completed"
        },
        "tags": [],
        "trusted": true,
        "execution": {
          "iopub.status.busy": "2025-01-25T02:25:05.565661Z",
          "iopub.execute_input": "2025-01-25T02:25:05.565994Z",
          "iopub.status.idle": "2025-01-25T02:25:05.572282Z",
          "shell.execute_reply.started": "2025-01-25T02:25:05.565966Z",
          "shell.execute_reply": "2025-01-25T02:25:05.57152Z"
        },
        "id": "EkU9fJP5XtvT"
      },
      "outputs": [],
      "execution_count": null
    },
    {
      "cell_type": "markdown",
      "source": [
        "The training set contians information about the class at each image and the corresponding bounding box."
      ],
      "metadata": {
        "papermill": {
          "duration": 0.019623,
          "end_time": "2024-11-13T17:32:26.664626",
          "exception": false,
          "start_time": "2024-11-13T17:32:26.645003",
          "status": "completed"
        },
        "tags": [],
        "id": "mtmAeJV4XtvU"
      }
    },
    {
      "cell_type": "code",
      "source": [
        "train_df['class'].value_counts(1) * 100"
      ],
      "metadata": {
        "papermill": {
          "duration": 0.035187,
          "end_time": "2024-11-13T17:32:26.780932",
          "exception": false,
          "start_time": "2024-11-13T17:32:26.745745",
          "status": "completed"
        },
        "tags": [],
        "trusted": true,
        "execution": {
          "iopub.status.busy": "2025-01-25T02:25:08.464624Z",
          "iopub.execute_input": "2025-01-25T02:25:08.464935Z",
          "iopub.status.idle": "2025-01-25T02:25:08.471684Z",
          "shell.execute_reply.started": "2025-01-25T02:25:08.46491Z",
          "shell.execute_reply": "2025-01-25T02:25:08.470869Z"
        },
        "id": "ra_qlWDFXtvU"
      },
      "outputs": [],
      "execution_count": null
    },
    {
      "cell_type": "code",
      "source": [
        "val_df['class_id'].value_counts(1) * 100"
      ],
      "metadata": {
        "papermill": {
          "duration": 0.033494,
          "end_time": "2024-11-13T17:32:26.834923",
          "exception": false,
          "start_time": "2024-11-13T17:32:26.801429",
          "status": "completed"
        },
        "tags": [],
        "trusted": true,
        "execution": {
          "iopub.status.busy": "2025-01-25T02:25:10.286389Z",
          "iopub.execute_input": "2025-01-25T02:25:10.286679Z",
          "iopub.status.idle": "2025-01-25T02:25:10.293258Z",
          "shell.execute_reply.started": "2025-01-25T02:25:10.286657Z",
          "shell.execute_reply": "2025-01-25T02:25:10.292396Z"
        },
        "id": "FhwWAkuQXtvU"
      },
      "outputs": [],
      "execution_count": null
    },
    {
      "cell_type": "markdown",
      "source": [
        "But the test set only contains the filename of each image, so we have to generate predictions and send it to the Kaggle competition."
      ],
      "metadata": {
        "papermill": {
          "duration": 0.020356,
          "end_time": "2024-11-13T17:32:26.884084",
          "exception": false,
          "start_time": "2024-11-13T17:32:26.863728",
          "status": "completed"
        },
        "tags": [],
        "id": "kIEuqwXbXtvV"
      }
    },
    {
      "cell_type": "code",
      "source": [
        "transform_func_inp_signature = ty.Dict[str, NDArray[np.float_]]\n",
        "transform_func_signature = ty.Callable[\n",
        "    [transform_func_inp_signature],\n",
        "    transform_func_inp_signature\n",
        "]\n",
        "\n",
        "class militarDataset(Dataset):\n",
        "    \"\"\"\n",
        "    Location image dataset\n",
        "    \"\"\"\n",
        "    def __init__(\n",
        "        self,\n",
        "        df: pd.DataFrame,\n",
        "        root_dir: str,\n",
        "        labeled: bool = True,\n",
        "        transform: ty.Optional[ty.List[transform_func_signature]] = None,\n",
        "        output_size: ty.Optional[tuple] = None  # Añadir parámetro para tamaño de salida\n",
        "    ) -> None:\n",
        "        self.df = df\n",
        "        self.root_dir = root_dir\n",
        "        self.transform = transform\n",
        "        self.labeled = labeled\n",
        "        self.output_size = output_size  # Almacenar el tamaño de salida\n",
        "\n",
        "    def __len__(self):\n",
        "        return self.df.shape[0]\n",
        "\n",
        "    def __getitem__(self, idx: int) -> transform_func_signature:\n",
        "        if torch.is_tensor(idx):\n",
        "            idx = idx.tolist()\n",
        "\n",
        "        # Read image\n",
        "        img_name = os.path.join(self.root_dir, self.df.filename.iloc[idx])\n",
        "        #img_name = os.path.join(self.root_dir, self.df.iloc[idx]['filename'])\n",
        "        image = io.imread(img_name)\n",
        "        #image = cv2.imread(img_name)\n",
        "\n",
        "\n",
        "        #print(f\"Dimensiones originales de la imagen: {image.shape}\")  # Agregar para depuración\n",
        "        if image is None:\n",
        "            raise FileNotFoundError(f\"Image not found: {img_name}\")\n",
        "\n",
        "        if image.ndim == 2:  # Si la imagen está en escala de grises\n",
        "            image = cv2.cvtColor(image,cv2.COLOR_BGR2RGB)  # Convertir a RGB\n",
        "        elif image.shape[2] == 4:  # Si la imagen es RGBA\n",
        "            image = image[:, :, :3]\n",
        "\n",
        "        # Redimensionar la imagen si se especifica un tamaño de salida\n",
        "        if self.output_size:\n",
        "            image = cv2.resize(image, self.output_size)  # Redimensionar la imagen\n",
        "\n",
        "        sample = {'image': image}\n",
        "\n",
        "        if self.labeled:\n",
        "            # Read labels\n",
        "            img_class = self.df.class_id.iloc[idx]\n",
        "            img_bbox = self.df.iloc[idx, 1:5]\n",
        "\n",
        "            img_bbox = np.array([img_bbox]).astype('float')\n",
        "            img_class = np.array([img_class]).astype('int')\n",
        "            sample.update({'bbox': img_bbox, 'class_id': img_class})\n",
        "\n",
        "        if self.transform:\n",
        "            sample = self.transform(sample)\n",
        "\n",
        "        return sample\n",
        ""
      ],
      "metadata": {
        "papermill": {
          "duration": 0.036373,
          "end_time": "2024-11-13T17:32:26.940795",
          "exception": false,
          "start_time": "2024-11-13T17:32:26.904422",
          "status": "completed"
        },
        "tags": [],
        "trusted": true,
        "_kg_hide-input": false,
        "execution": {
          "iopub.status.busy": "2025-01-25T02:25:12.950035Z",
          "iopub.execute_input": "2025-01-25T02:25:12.950349Z",
          "iopub.status.idle": "2025-01-25T02:25:12.958365Z",
          "shell.execute_reply.started": "2025-01-25T02:25:12.950319Z",
          "shell.execute_reply": "2025-01-25T02:25:12.957702Z"
        },
        "id": "deoOCMXrXtvV"
      },
      "outputs": [],
      "execution_count": null
    },
    {
      "cell_type": "code",
      "source": [
        "def draw_bbox(img, bbox, color,thickness: int = 3):\n",
        "    xmin, ymin, xmax, ymax = bbox\n",
        "    img = cv2.rectangle(img, (xmin, ymin), (xmax, ymax), color, thickness)\n",
        "    return img\n",
        "\n",
        "def normalize_bbox(bbox, h: int, w: int):\n",
        "    \"\"\"Escala las coordenadas normalizadas al tamaño real de la imagen.\"\"\"\n",
        "    return [\n",
        "        int(bbox[0] * w),  # xmin\n",
        "        int(bbox[1] * h),  # ymin\n",
        "        int(bbox[2] * w),  # xmax\n",
        "        int(bbox[3] * h),  # ymax\n",
        "    ]\n",
        "\n",
        "def draw_bboxes(imgs, bboxes, colors,thickness):\n",
        "    \"\"\"Dibuja múltiples cuadros delimitadores en imágenes, escalando según h y w.\"\"\"\n",
        "    for i, (img, bbox, color) in enumerate(zip(imgs, bboxes, colors)):\n",
        "        imgs[i] = draw_bbox(img, bbox, color,thickness)\n",
        "    return imgs\n",
        "\n",
        "def draw_classes(imgs, classes, colors, origin, prefix: str ='',fontScale : int = 2):\n",
        "    \"\"\"Dibuja las clases en las imágenes.\"\"\"\n",
        "    for i, (img, class_id, color) in enumerate(zip(imgs, classes, colors)):\n",
        "        if type(c)==list:\n",
        "            name_class_=id2obj[classes[i]]\n",
        "        else:\n",
        "            name_class_=id2obj[classes[i][0]]\n",
        "        imgs[i] = cv2.putText(\n",
        "            img, f'{prefix}{name_class_}', #class_id.squeeze()\n",
        "            origin, cv2.FONT_HERSHEY_SIMPLEX,\n",
        "            fontScale , color, 2, cv2.LINE_AA\n",
        "        )\n",
        "    return imgs\n",
        "\n",
        "def draw_predictions(imgs, classes, bboxes, colors, origin,thickness,fontScale):\n",
        "    \"\"\"\n",
        "    Combina las funciones anteriores para dibujar cuadros delimitadores\n",
        "    y clases en las imágenes.\n",
        "    \"\"\"\n",
        "    assert all(len(x) > 0 for x in [imgs, classes, bboxes, colors])\n",
        "    if len(colors) == 1:\n",
        "        colors = [colors[0] for _ in imgs]\n",
        "    imgs = draw_bboxes(imgs, bboxes, colors,thickness)\n",
        "    imgs = draw_classes(imgs, classes, colors, origin,\"\",fontScale)\n",
        "    return imgs"
      ],
      "metadata": {
        "trusted": true,
        "execution": {
          "iopub.status.busy": "2025-01-25T02:25:22.52757Z",
          "iopub.execute_input": "2025-01-25T02:25:22.527892Z",
          "iopub.status.idle": "2025-01-25T02:25:22.535999Z",
          "shell.execute_reply.started": "2025-01-25T02:25:22.527865Z",
          "shell.execute_reply": "2025-01-25T02:25:22.535064Z"
        },
        "id": "YGmFyBUjXtvW"
      },
      "outputs": [],
      "execution_count": null
    },
    {
      "cell_type": "code",
      "source": [
        "train_root_dir = osp.join(DATA_DIR, \"images/images\")#, \"train\"\n",
        "train_ds = militarDataset(train_df, root_dir=train_root_dir,output_size=(w,h))\n",
        "\n",
        "num_imgs = 6\n",
        "start_idx = 0\n",
        "\n",
        "samples = [train_ds[i] for i in range(start_idx, num_imgs)]\n",
        "\n",
        "imgs = [s['image'] for s in samples]\n",
        "bboxes = [normalize_bbox(s['bbox'].squeeze(),h,w) for s in samples]\n",
        "classes = [s['class_id'] for s in samples]\n",
        "\n",
        "imgs = draw_predictions(imgs, classes, bboxes, [(0, 150, 0)], (int(w*0.1), int(h*0.1)),thickness = 1,fontScale=1)#(150, 10)\n",
        "\n",
        "fig = plt.figure(figsize=(30, num_imgs))\n",
        "\n",
        "for i, img in enumerate(imgs):\n",
        "    fig.add_subplot(1, num_imgs, i+1)\n",
        "    plt.imshow(img)\n",
        "\n",
        "plt.show()"
      ],
      "metadata": {
        "trusted": true,
        "execution": {
          "iopub.status.busy": "2025-01-25T02:25:27.987838Z",
          "iopub.execute_input": "2025-01-25T02:25:27.988122Z",
          "iopub.status.idle": "2025-01-25T02:25:28.853938Z",
          "shell.execute_reply.started": "2025-01-25T02:25:27.9881Z",
          "shell.execute_reply": "2025-01-25T02:25:28.852996Z"
        },
        "id": "ybD4eLCAXtvW"
      },
      "outputs": [],
      "execution_count": null
    },
    {
      "cell_type": "code",
      "source": [
        "samples[0]['bbox']"
      ],
      "metadata": {
        "trusted": true,
        "execution": {
          "iopub.status.busy": "2025-01-25T02:25:33.05824Z",
          "iopub.execute_input": "2025-01-25T02:25:33.058524Z",
          "iopub.status.idle": "2025-01-25T02:25:33.063742Z",
          "shell.execute_reply.started": "2025-01-25T02:25:33.058502Z",
          "shell.execute_reply": "2025-01-25T02:25:33.063093Z"
        },
        "id": "voeZDOqiXtvX"
      },
      "outputs": [],
      "execution_count": null
    },
    {
      "cell_type": "code",
      "source": [
        "samples[0]['class_id']"
      ],
      "metadata": {
        "trusted": true,
        "execution": {
          "iopub.status.busy": "2025-01-25T02:25:35.231741Z",
          "iopub.execute_input": "2025-01-25T02:25:35.232068Z",
          "iopub.status.idle": "2025-01-25T02:25:35.236939Z",
          "shell.execute_reply.started": "2025-01-25T02:25:35.232044Z",
          "shell.execute_reply": "2025-01-25T02:25:35.236137Z"
        },
        "id": "CbfkZNDvXtvX"
      },
      "outputs": [],
      "execution_count": null
    },
    {
      "cell_type": "markdown",
      "source": [
        "# Transfer learning"
      ],
      "metadata": {
        "papermill": {
          "duration": 0.032615,
          "end_time": "2024-11-13T17:32:28.412044",
          "exception": false,
          "start_time": "2024-11-13T17:32:28.379429",
          "status": "completed"
        },
        "tags": [],
        "id": "jcSUi-ZDXtvX"
      }
    },
    {
      "cell_type": "markdown",
      "source": [
        "In our case, we are interested in getting a pretrained-model to use it as a backbone that has been trained in other tasks. For example, if we want to use vgg16 as our backbone, we would not need the last classification module and keep the averaged pool module as the source of features to perform both tasks"
      ],
      "metadata": {
        "papermill": {
          "duration": 0.033773,
          "end_time": "2024-11-13T17:32:28.478046",
          "exception": false,
          "start_time": "2024-11-13T17:32:28.444273",
          "status": "completed"
        },
        "tags": [],
        "id": "PADs4eFGXtvX"
      }
    },
    {
      "cell_type": "code",
      "source": [
        "from torchvision.models import vgg16\n",
        "\n",
        "\n",
        "class FeatureExtractor(nn.Module):\n",
        "    def __init__(self, model):\n",
        "        super(FeatureExtractor, self).__init__()\n",
        "        # Extract VGG-16 Feature Layers\n",
        "        self.features = list(model.features)\n",
        "        self.features = nn.Sequential(*self.features)\n",
        "        # Extract VGG-16 Average Pooling Layer\n",
        "        self.pooling = model.avgpool\n",
        "        # Convert the image into one-dimensional vector\n",
        "        self.flatten = nn.Flatten()\n",
        "        self.dropout = nn.Dropout(0.5)\n",
        "\n",
        "    def forward(self, x):\n",
        "        # It will take the input 'x' until it returns the feature vector called 'out'\n",
        "        out = self.features(x)\n",
        "        out = self.pooling(out)\n",
        "        out = self.flatten(out)\n",
        "        out = self.dropout(out)\n",
        "        return out\n",
        "\n",
        "# Load the vgg16 model\n",
        "vgg16_model = vgg16(pretrained=True, progress=True)\n",
        "pretrained_model = FeatureExtractor(vgg16_model).to(device)\n",
        "pretrained_model"
      ],
      "metadata": {
        "papermill": {
          "duration": 4.229183,
          "end_time": "2024-11-13T17:32:32.74511",
          "exception": false,
          "start_time": "2024-11-13T17:32:28.515927",
          "status": "completed"
        },
        "tags": [],
        "trusted": true,
        "execution": {
          "iopub.status.busy": "2025-01-25T02:25:38.985307Z",
          "iopub.execute_input": "2025-01-25T02:25:38.985633Z",
          "iopub.status.idle": "2025-01-25T02:25:43.041354Z",
          "shell.execute_reply.started": "2025-01-25T02:25:38.985606Z",
          "shell.execute_reply": "2025-01-25T02:25:43.040633Z"
        },
        "id": "bqUYruDPXtvY"
      },
      "outputs": [],
      "execution_count": null
    },
    {
      "cell_type": "code",
      "source": [
        "summary(pretrained_model, (3, 720, 1280))"
      ],
      "metadata": {
        "papermill": {
          "duration": 0.577759,
          "end_time": "2024-11-13T17:32:33.361368",
          "exception": false,
          "start_time": "2024-11-13T17:32:32.783609",
          "status": "completed"
        },
        "tags": [],
        "trusted": true,
        "execution": {
          "iopub.status.busy": "2025-01-25T02:25:47.475951Z",
          "iopub.execute_input": "2025-01-25T02:25:47.476276Z",
          "iopub.status.idle": "2025-01-25T02:25:48.153714Z",
          "shell.execute_reply.started": "2025-01-25T02:25:47.47625Z",
          "shell.execute_reply": "2025-01-25T02:25:48.153003Z"
        },
        "id": "XgekeESjXtvY"
      },
      "outputs": [],
      "execution_count": null
    },
    {
      "cell_type": "code",
      "source": [
        "vgg16_model"
      ],
      "metadata": {
        "papermill": {
          "duration": 0.043632,
          "end_time": "2024-11-13T17:32:33.440368",
          "exception": false,
          "start_time": "2024-11-13T17:32:33.396736",
          "status": "completed"
        },
        "tags": [],
        "trusted": true,
        "execution": {
          "iopub.status.busy": "2025-01-25T02:25:52.521336Z",
          "iopub.execute_input": "2025-01-25T02:25:52.521635Z",
          "iopub.status.idle": "2025-01-25T02:25:52.526888Z",
          "shell.execute_reply.started": "2025-01-25T02:25:52.521613Z",
          "shell.execute_reply": "2025-01-25T02:25:52.526072Z"
        },
        "id": "x_PVBG7VXtvY"
      },
      "outputs": [],
      "execution_count": null
    },
    {
      "cell_type": "markdown",
      "source": [
        "# Image normalization"
      ],
      "metadata": {
        "papermill": {
          "duration": 0.034067,
          "end_time": "2024-11-13T17:32:33.509971",
          "exception": false,
          "start_time": "2024-11-13T17:32:33.475904",
          "status": "completed"
        },
        "tags": [],
        "id": "dUibBH2oXtvi"
      }
    },
    {
      "cell_type": "code",
      "source": [
        "train_df.shape"
      ],
      "metadata": {
        "trusted": true,
        "execution": {
          "iopub.status.busy": "2025-01-25T02:25:57.952471Z",
          "iopub.execute_input": "2025-01-25T02:25:57.952928Z",
          "iopub.status.idle": "2025-01-25T02:25:57.958616Z",
          "shell.execute_reply.started": "2025-01-25T02:25:57.952887Z",
          "shell.execute_reply": "2025-01-25T02:25:57.957688Z"
        },
        "id": "1Qtk0VDrXtvi"
      },
      "outputs": [],
      "execution_count": null
    },
    {
      "cell_type": "code",
      "source": [
        "train_ds = militarDataset(train_df, root_dir=train_root_dir,output_size=(255,255))#,output_size=(255,255)\n",
        "\n",
        "means = np.zeros(3)\n",
        "stds = np.zeros(3)\n",
        "n_images = 0\n",
        "\n",
        "for x in train_ds:\n",
        "    img = x['image']#.astype(np.float32)  # Asegúrate de que la imagen está en float para cálculos precisos\n",
        "    n_images += 1\n",
        "\n",
        "    for channel in range(3):\n",
        "        channel_pixels = img[..., channel]\n",
        "        # Acumular la suma y suma de cuadrados para calcular la media y desviación estándar\n",
        "        means[channel] += np.mean(channel_pixels)\n",
        "        stds[channel] += np.std(channel_pixels)\n",
        "\n",
        "# Calcular la media y desviación estándar final\n",
        "means /= n_images\n",
        "stds /= n_images"
      ],
      "metadata": {
        "papermill": {
          "duration": 3.283378,
          "end_time": "2024-11-13T17:32:36.827814",
          "exception": false,
          "start_time": "2024-11-13T17:32:33.544436",
          "status": "completed"
        },
        "tags": [],
        "trusted": true,
        "execution": {
          "iopub.status.busy": "2025-01-25T02:26:00.304988Z",
          "iopub.execute_input": "2025-01-25T02:26:00.305279Z",
          "iopub.status.idle": "2025-01-25T02:26:01.624022Z",
          "shell.execute_reply.started": "2025-01-25T02:26:00.305256Z",
          "shell.execute_reply": "2025-01-25T02:26:01.623335Z"
        },
        "id": "ChbcyBPDXtvj"
      },
      "outputs": [],
      "execution_count": null
    },
    {
      "cell_type": "code",
      "source": [
        "print(means)\n",
        "print(stds)"
      ],
      "metadata": {
        "trusted": true,
        "execution": {
          "iopub.status.busy": "2025-01-25T02:26:04.20496Z",
          "iopub.execute_input": "2025-01-25T02:26:04.205254Z",
          "iopub.status.idle": "2025-01-25T02:26:04.210175Z",
          "shell.execute_reply.started": "2025-01-25T02:26:04.205233Z",
          "shell.execute_reply": "2025-01-25T02:26:04.209331Z"
        },
        "id": "qfRpbnefXtvj"
      },
      "outputs": [],
      "execution_count": null
    },
    {
      "cell_type": "code",
      "source": [
        "print(means)\n",
        "print(stds)"
      ],
      "metadata": {
        "papermill": {
          "duration": 0.043717,
          "end_time": "2024-11-13T17:32:36.907478",
          "exception": false,
          "start_time": "2024-11-13T17:32:36.863761",
          "status": "completed"
        },
        "tags": [],
        "trusted": true,
        "execution": {
          "iopub.status.busy": "2025-01-25T02:26:07.157603Z",
          "iopub.execute_input": "2025-01-25T02:26:07.157917Z",
          "iopub.status.idle": "2025-01-25T02:26:07.162915Z",
          "shell.execute_reply.started": "2025-01-25T02:26:07.157893Z",
          "shell.execute_reply": "2025-01-25T02:26:07.161871Z"
        },
        "id": "OBAJVLxlXtvk"
      },
      "outputs": [],
      "execution_count": null
    },
    {
      "cell_type": "code",
      "source": [
        "!wget https://upload.wikimedia.org/wikipedia/commons/thumb/9/99/Gioconda_%28copia_del_Museo_del_Prado_restaurada%29.jpg/800px-Gioconda_%28copia_del_Museo_del_Prado_restaurada%29.jpg"
      ],
      "metadata": {
        "papermill": {
          "duration": 1.367701,
          "end_time": "2024-11-13T17:32:38.310238",
          "exception": false,
          "start_time": "2024-11-13T17:32:36.942537",
          "status": "completed"
        },
        "tags": [],
        "trusted": true,
        "execution": {
          "execution_failed": "2025-01-25T02:23:09.978Z"
        },
        "id": "qp5Jx9kyXtvk"
      },
      "outputs": [],
      "execution_count": null
    },
    {
      "cell_type": "code",
      "source": [
        "img_filename = \"800px-Gioconda_(copia_del_Museo_del_Prado_restaurada).jpg\"\n",
        "monalisa = cv2.imread(img_filename)\n",
        "monalisa = cv2.cvtColor(monalisa, cv2.COLOR_BGR2RGB)\n",
        "\n",
        "print(monalisa.shape)\n",
        "monalisa[..., 0] = 0\n",
        "#monalisa[..., 1] = 0\n",
        "monalisa[..., 2] = 0\n",
        "\n",
        "plt.imshow(monalisa)"
      ],
      "metadata": {
        "papermill": {
          "duration": 0.50145,
          "end_time": "2024-11-13T17:32:38.850626",
          "exception": false,
          "start_time": "2024-11-13T17:32:38.349176",
          "status": "completed"
        },
        "tags": [],
        "trusted": true,
        "execution": {
          "execution_failed": "2025-01-25T02:23:09.978Z"
        },
        "id": "yn3g7dCTXtvl"
      },
      "outputs": [],
      "execution_count": null
    },
    {
      "cell_type": "code",
      "source": [
        "img_filename = osp.join(DATA_DIR, \"images/images\",'image_00007.jpeg')\n",
        "img1 = cv2.imread(img_filename)\n",
        "#img1 = cv2.cvtColor(img1, cv2.COLOR_BGR2RGB)\n",
        "\n",
        "print(img1.shape)\n",
        "print(img1.transpose((2,0,1)).shape)\n",
        "img1[..., 0] = 0\n",
        "img1[..., 1] = 0\n",
        "\n",
        "plt.imshow(img1)"
      ],
      "metadata": {
        "papermill": {
          "duration": 0.395097,
          "end_time": "2024-11-13T17:32:39.284788",
          "exception": false,
          "start_time": "2024-11-13T17:32:38.889691",
          "status": "completed"
        },
        "tags": [],
        "trusted": true,
        "execution": {
          "execution_failed": "2025-01-25T02:23:09.979Z"
        },
        "id": "-33KNZiuXtvl"
      },
      "outputs": [],
      "execution_count": null
    },
    {
      "cell_type": "markdown",
      "source": [
        "# Image transforms"
      ],
      "metadata": {
        "papermill": {
          "duration": 0.038409,
          "end_time": "2024-11-13T17:32:39.363706",
          "exception": false,
          "start_time": "2024-11-13T17:32:39.325297",
          "status": "completed"
        },
        "tags": [],
        "id": "9cwXmvuCXtvm"
      }
    },
    {
      "cell_type": "markdown",
      "source": [
        "A recommended library to do image augmentation is https://albumentations.ai/docs/examples/pytorch_classification/\n"
      ],
      "metadata": {
        "papermill": {
          "duration": 0.037947,
          "end_time": "2024-11-13T17:32:39.439711",
          "exception": false,
          "start_time": "2024-11-13T17:32:39.401764",
          "status": "completed"
        },
        "tags": [],
        "id": "cjYyNGjFXtvm"
      }
    },
    {
      "cell_type": "code",
      "source": [
        "\n",
        "class ToTensor(object):\n",
        "    \"\"\"Convert ndarrays in sample to Tensors.\"\"\"\n",
        "\n",
        "    def __call__(self, sample):\n",
        "        image = sample['image']\n",
        "\n",
        "        # swap color axis because\n",
        "        # numpy image: H x W x C (0,1,2)\n",
        "        # torch image: C x H x W\n",
        "        image = image.transpose((2, 0, 1))\n",
        "        image = torch.from_numpy(image).float()\n",
        "        sample.update({'image': image})\n",
        "        return sample\n",
        "\n",
        "\n",
        "class Normalizer(object):\n",
        "\n",
        "    def __init__(self, stds, means):\n",
        "        \"\"\"\n",
        "        Arguments:\n",
        "\n",
        "            stds: array of length 3 containing the standard deviation of each channel in RGB order.\n",
        "            means: array of length 3 containing the means of each channel in RGB order.\n",
        "        \"\"\"\n",
        "        self.stds = stds\n",
        "        self.means = means\n",
        "\n",
        "    def __call__(self, sample):\n",
        "        \"\"\"\n",
        "        Sample: a dicitonary containing:\n",
        "            image: sample image in format (C, H, W)\n",
        "        Returns:\n",
        "            the image in (C, H, W) format with the channels normalized.\n",
        "        \"\"\"\n",
        "        image = sample['image']\n",
        "\n",
        "        for channel in range(3):\n",
        "            image[channel] = (image[channel] - means[channel]) / stds[channel]\n",
        "\n",
        "        sample['image'] = image\n",
        "        return sample\n",
        "\n",
        "class TVTransformWrapper(object):\n",
        "    \"\"\"Torch Vision Transform Wrapper\n",
        "    \"\"\"\n",
        "    def __init__(self, transform: torch.nn.Module):\n",
        "        self.transform = transform\n",
        "\n",
        "    def __call__(self, sample):\n",
        "        sample['image'] = self.transform(sample['image'])\n",
        "        return sample\n",
        "\n",
        "class AlbumentationsWrapper(object):\n",
        "\n",
        "    def __init__(self, transform):\n",
        "        self.transform = transform\n",
        "\n",
        "    def __call__(self, sample):\n",
        "        transformed = self.transform(\n",
        "            image=sample['image'],\n",
        "            bboxes=sample['bbox'],\n",
        "            #category_ids=sample['class_id']\n",
        "        )\n",
        "        sample['image'] = transformed['image']\n",
        "        sample['bbox'] = np.array(transformed['bboxes'])\n",
        "        return sample\n",
        "\n"
      ],
      "metadata": {
        "papermill": {
          "duration": 0.054293,
          "end_time": "2024-11-13T17:32:39.532091",
          "exception": false,
          "start_time": "2024-11-13T17:32:39.477798",
          "status": "completed"
        },
        "tags": [],
        "trusted": true,
        "execution": {
          "iopub.status.busy": "2025-01-25T02:26:17.044666Z",
          "iopub.execute_input": "2025-01-25T02:26:17.044997Z",
          "iopub.status.idle": "2025-01-25T02:26:17.052261Z",
          "shell.execute_reply.started": "2025-01-25T02:26:17.04497Z",
          "shell.execute_reply": "2025-01-25T02:26:17.051302Z"
        },
        "id": "5DSWcEX5Xtvn"
      },
      "outputs": [],
      "execution_count": null
    },
    {
      "cell_type": "code",
      "source": [
        "common_transforms = [\n",
        "    ToTensor(),\n",
        "    Normalizer(\n",
        "        means=means,\n",
        "        stds=stds,\n",
        "    )\n",
        "]\n",
        "\n",
        "train_data_augmentations = A.Compose([\n",
        "    A.HorizontalFlip(p=1),\n",
        "    ],\n",
        "    bbox_params=A.BboxParams(\n",
        "        format='albumentations',\n",
        "        label_fields=[],\n",
        "    )\n",
        ")\n",
        "\n",
        "train_transforms = torchvision.transforms.Compose(\n",
        "    [\n",
        "        AlbumentationsWrapper(train_data_augmentations),\n",
        "    ] + common_transforms\n",
        ")\n",
        "\n",
        "eval_transforms = torchvision.transforms.Compose(common_transforms)"
      ],
      "metadata": {
        "trusted": true,
        "execution": {
          "iopub.status.busy": "2025-01-25T02:26:21.581027Z",
          "iopub.execute_input": "2025-01-25T02:26:21.581312Z",
          "iopub.status.idle": "2025-01-25T02:26:21.586594Z",
          "shell.execute_reply.started": "2025-01-25T02:26:21.581289Z",
          "shell.execute_reply": "2025-01-25T02:26:21.585712Z"
        },
        "id": "u-YWHMJjXtvn"
      },
      "outputs": [],
      "execution_count": null
    },
    {
      "cell_type": "code",
      "source": [
        "train_ds = militarDataset(train_df, root_dir=train_root_dir,output_size=(255,255))\n",
        "\n",
        "x = next(iter(train_ds))\n",
        "x_transformed = copy.deepcopy(x)\n",
        "x_transformed = train_transforms(x_transformed)\n",
        "\n",
        "original_img = x['image']\n",
        "transformed_img = x_transformed['image'].numpy().transpose(1, 2, 0)\n",
        "transformed_img = cv2.resize(transformed_img, (255,255)) ## Redimensiona la imagen\n",
        "\n",
        "original_img = draw_bbox(\n",
        "    original_img,\n",
        "    normalize_bbox(x['bbox'].squeeze(),h,w),\n",
        "    (0, 255, 0),thickness=1\n",
        ")\n",
        "\n",
        "transformed_img = draw_bbox(\n",
        "    transformed_img,\n",
        "    normalize_bbox(x_transformed['bbox'].squeeze(),h,w),\n",
        "    (0, 255, 0),thickness=1\n",
        ")\n",
        "\n",
        "fig, axes = plt.subplots(nrows=1, ncols=2, figsize=(10, 5))\n",
        "\n",
        "axes[0].imshow(original_img)\n",
        "axes[0].set_title('Original digit')\n",
        "\n",
        "axes[1].imshow(transformed_img)\n",
        "axes[1].set_title('Transformed digit')\n",
        "\n",
        "plt.show()"
      ],
      "metadata": {
        "papermill": {
          "duration": 0.63674,
          "end_time": "2024-11-13T17:32:40.295517",
          "exception": false,
          "start_time": "2024-11-13T17:32:39.658777",
          "status": "completed"
        },
        "tags": [],
        "trusted": true,
        "execution": {
          "iopub.status.busy": "2025-01-25T02:26:24.365314Z",
          "iopub.execute_input": "2025-01-25T02:26:24.365618Z",
          "iopub.status.idle": "2025-01-25T02:26:24.686544Z",
          "shell.execute_reply.started": "2025-01-25T02:26:24.365592Z",
          "shell.execute_reply": "2025-01-25T02:26:24.685699Z"
        },
        "id": "Vvuc3KrbXtvo"
      },
      "outputs": [],
      "execution_count": null
    },
    {
      "cell_type": "code",
      "source": [
        "train_ds = militarDataset(df, root_dir=train_root_dir, transform=train_transforms,output_size=(255,255))#\n",
        "train_data = torch.utils.data.DataLoader(train_ds, batch_size=16)#,collate_fn=custom_collate_fn\n",
        "\n",
        "for x in train_data:\n",
        "    print(x['image'].size())\n",
        "    break"
      ],
      "metadata": {
        "trusted": true,
        "execution": {
          "iopub.status.busy": "2025-01-25T02:26:30.477271Z",
          "iopub.execute_input": "2025-01-25T02:26:30.477559Z",
          "iopub.status.idle": "2025-01-25T02:26:30.663356Z",
          "shell.execute_reply.started": "2025-01-25T02:26:30.477535Z",
          "shell.execute_reply": "2025-01-25T02:26:30.662612Z"
        },
        "id": "rodD2KmVXtvp"
      },
      "outputs": [],
      "execution_count": null
    },
    {
      "cell_type": "code",
      "source": [
        "def get_output_shape(model: nn.Sequential, image_dim: ty.Tuple[int, int, int]):\n",
        "    return model(torch.rand(*(image_dim)).to(device)).data.shape\n",
        "\n",
        "class Model(nn.Module):\n",
        "    def __init__(self, input_shape: ty.Tuple[int, int, int] = (3, 255, 400), n_classes: int = 6):\n",
        "        \"\"\"\n",
        "        Model with one input (image) and two outputs:\n",
        "            1. Digit classification (classification).\n",
        "            2. Bounding box prediction (regression).\n",
        "\n",
        "        Arguments:\n",
        "            input_shape: input shape of the image in format (C, H, W)\n",
        "            n_classes: number of classes to perfrom classification with\n",
        "\n",
        "        Attributes:\n",
        "            backbone: ConvNet that process the image and\n",
        "            returns a flattened vector with the information of the\n",
        "            activations.\n",
        "\n",
        "            cls_head: MLP that receives the flattened input from the backbone\n",
        "            and predicts the classification logits for the classes (classficiation task).\n",
        "\n",
        "            reg_head: MLP that receives the flattened input from the backbone\n",
        "            and predicts the coordinates of the predicted bounding box (regression task).\n",
        "        \"\"\"\n",
        "        super().__init__()\n",
        "\n",
        "        self.input_shape = input_shape\n",
        "\n",
        "        # When doing transfer learning, use pretrained model instead of custom backbone\n",
        "        self.backbone = pretrained_model\n",
        "\n",
        "        backbone_output_shape = get_output_shape(self.backbone, [1, *input_shape])\n",
        "        backbone_output_features = reduce(lambda x, y: x*y, backbone_output_shape)\n",
        "\n",
        "        self.cls_head = nn.Sequential(\n",
        "            nn.Linear(in_features=backbone_output_features, out_features=768),\n",
        "            nn.ReLU(),\n",
        "            nn.Linear(768, 256),\n",
        "            nn.ReLU(),\n",
        "            nn.Linear(256, n_classes)\n",
        "        )\n",
        "\n",
        "        self.reg_head = nn.Sequential(\n",
        "            nn.Linear(in_features=backbone_output_features, out_features=768),\n",
        "            nn.ReLU(),\n",
        "            nn.Linear(768, 256),\n",
        "            nn.ReLU(),\n",
        "            nn.Linear(256, 128),\n",
        "            nn.ReLU(),\n",
        "            nn.Linear(128, 4)\n",
        "        )\n",
        "\n",
        "    def forward(self, x: Tensor) -> ty.Dict[str, Tensor]:\n",
        "        features = self.backbone(x)\n",
        "        cls_logits = self.cls_head(features)\n",
        "        pred_bbox = self.reg_head(features)\n",
        "        predictions = {'bbox': pred_bbox, 'class_id': cls_logits}\n",
        "        return predictions"
      ],
      "metadata": {
        "papermill": {
          "duration": 0.060352,
          "end_time": "2024-11-13T17:32:40.666108",
          "exception": false,
          "start_time": "2024-11-13T17:32:40.605756",
          "status": "completed"
        },
        "tags": [],
        "trusted": true,
        "execution": {
          "iopub.status.busy": "2025-01-25T02:26:32.973551Z",
          "iopub.execute_input": "2025-01-25T02:26:32.973888Z",
          "iopub.status.idle": "2025-01-25T02:26:32.981355Z",
          "shell.execute_reply.started": "2025-01-25T02:26:32.973859Z",
          "shell.execute_reply": "2025-01-25T02:26:32.980504Z"
        },
        "id": "EVGCjW3JXtvp"
      },
      "outputs": [],
      "execution_count": null
    },
    {
      "cell_type": "code",
      "source": [
        "#torch.cuda.empty_cache()\n",
        "import gc\n",
        "torch.cuda.empty_cache()\n",
        "gc.collect()"
      ],
      "metadata": {
        "papermill": {
          "duration": 0.058921,
          "end_time": "2024-11-13T17:32:40.767969",
          "exception": false,
          "start_time": "2024-11-13T17:32:40.709048",
          "status": "completed"
        },
        "tags": [],
        "trusted": true,
        "execution": {
          "iopub.status.busy": "2025-01-25T02:26:58.517894Z",
          "iopub.execute_input": "2025-01-25T02:26:58.518184Z",
          "iopub.status.idle": "2025-01-25T02:26:58.716136Z",
          "shell.execute_reply.started": "2025-01-25T02:26:58.518162Z",
          "shell.execute_reply": "2025-01-25T02:26:58.715407Z"
        },
        "id": "43ljIyAqXtvq"
      },
      "outputs": [],
      "execution_count": null
    },
    {
      "cell_type": "code",
      "source": [
        "print('image', x['image'].size())\n",
        "model = Model(input_shape=(3, h, w), n_classes=6).to(device)\n",
        "x['image'] = x['image'].to(device)\n",
        "preds = model(x['image'])\n",
        "preds"
      ],
      "metadata": {
        "papermill": {
          "duration": 0.755032,
          "end_time": "2024-11-13T17:32:41.56599",
          "exception": false,
          "start_time": "2024-11-13T17:32:40.810958",
          "status": "completed"
        },
        "tags": [],
        "trusted": true,
        "execution": {
          "iopub.status.busy": "2025-01-25T02:27:01.50204Z",
          "iopub.execute_input": "2025-01-25T02:27:01.502339Z",
          "iopub.status.idle": "2025-01-25T02:27:02.252376Z",
          "shell.execute_reply.started": "2025-01-25T02:27:01.502315Z",
          "shell.execute_reply": "2025-01-25T02:27:02.251608Z"
        },
        "id": "eN-x0Gv4Xtvr"
      },
      "outputs": [],
      "execution_count": null
    },
    {
      "cell_type": "markdown",
      "source": [
        "# Metrics"
      ],
      "metadata": {
        "papermill": {
          "duration": 0.042487,
          "end_time": "2024-11-13T17:32:41.652195",
          "exception": false,
          "start_time": "2024-11-13T17:32:41.609708",
          "status": "completed"
        },
        "tags": [],
        "id": "HsMnPQj4Xtvr"
      }
    },
    {
      "cell_type": "code",
      "source": [
        "def iou(y_true: Tensor, y_pred: Tensor):\n",
        "    pairwise_iou = torchvision.ops.box_iou(y_true.squeeze(), y_pred.squeeze())\n",
        "    result = torch.trace(pairwise_iou) / pairwise_iou.size()[0]\n",
        "    return result"
      ],
      "metadata": {
        "papermill": {
          "duration": 0.050631,
          "end_time": "2024-11-13T17:32:41.74505",
          "exception": false,
          "start_time": "2024-11-13T17:32:41.694419",
          "status": "completed"
        },
        "tags": [],
        "trusted": true,
        "execution": {
          "iopub.status.busy": "2025-01-25T02:27:06.326467Z",
          "iopub.execute_input": "2025-01-25T02:27:06.326752Z",
          "iopub.status.idle": "2025-01-25T02:27:06.330719Z",
          "shell.execute_reply.started": "2025-01-25T02:27:06.326729Z",
          "shell.execute_reply": "2025-01-25T02:27:06.329952Z"
        },
        "id": "Kd2W_j4bXtvs"
      },
      "outputs": [],
      "execution_count": null
    },
    {
      "cell_type": "code",
      "source": [
        "def accuracy(y_true: Tensor, y_pred: Tensor):\n",
        "    pred = torch.argmax(y_pred, axis=-1)\n",
        "    y_true = y_true.squeeze()\n",
        "    correct = torch.eq(pred, y_true).float()\n",
        "    total = torch.ones_like(correct)\n",
        "    result = torch.divide(torch.sum(correct), torch.sum(total))\n",
        "    return result"
      ],
      "metadata": {
        "papermill": {
          "duration": 0.052741,
          "end_time": "2024-11-13T17:32:41.841048",
          "exception": false,
          "start_time": "2024-11-13T17:32:41.788307",
          "status": "completed"
        },
        "tags": [],
        "trusted": true,
        "execution": {
          "iopub.status.busy": "2025-01-25T02:27:08.864385Z",
          "iopub.execute_input": "2025-01-25T02:27:08.864674Z",
          "iopub.status.idle": "2025-01-25T02:27:08.868895Z",
          "shell.execute_reply.started": "2025-01-25T02:27:08.86465Z",
          "shell.execute_reply": "2025-01-25T02:27:08.867977Z"
        },
        "id": "PgiXkhY3Xtvs"
      },
      "outputs": [],
      "execution_count": null
    },
    {
      "cell_type": "markdown",
      "source": [
        "# Loss fn"
      ],
      "metadata": {
        "papermill": {
          "duration": 0.042718,
          "end_time": "2024-11-13T17:32:41.926815",
          "exception": false,
          "start_time": "2024-11-13T17:32:41.884097",
          "status": "completed"
        },
        "tags": [],
        "id": "eLi-WxfJXtvs"
      }
    },
    {
      "cell_type": "code",
      "source": [
        "def loss_fn(y_true, y_preds, alpha: float = 0.5):\n",
        "    cls_y_true, cls_y_pred = y_true['class_id'].long(), y_preds['class_id'].float().unsqueeze(-1)\n",
        "    reg_y_true, reg_y_pred = y_true['bbox'].float().squeeze(), y_preds['bbox'].float().squeeze()\n",
        "\n",
        "    cls_loss = F.cross_entropy(cls_y_pred, cls_y_true)\n",
        "\n",
        "    reg_loss = F.mse_loss(reg_y_pred, reg_y_true)\n",
        "    # Adds weights to both tasks\n",
        "    total_loss = (1 - alpha) * cls_loss + alpha * reg_loss\n",
        "    return dict(loss=total_loss, reg_loss=reg_loss,cls_loss=cls_loss)"
      ],
      "metadata": {
        "trusted": true,
        "execution": {
          "iopub.status.busy": "2025-01-25T02:27:12.093123Z",
          "iopub.execute_input": "2025-01-25T02:27:12.093612Z",
          "iopub.status.idle": "2025-01-25T02:27:12.100992Z",
          "shell.execute_reply.started": "2025-01-25T02:27:12.093563Z",
          "shell.execute_reply": "2025-01-25T02:27:12.099485Z"
        },
        "id": "rq_Da2cxXtvs"
      },
      "outputs": [],
      "execution_count": null
    },
    {
      "cell_type": "markdown",
      "source": [
        "# Callbacks"
      ],
      "metadata": {
        "papermill": {
          "duration": 0.042187,
          "end_time": "2024-11-13T17:32:42.108107",
          "exception": false,
          "start_time": "2024-11-13T17:32:42.06592",
          "status": "completed"
        },
        "tags": [],
        "id": "NFtYExB8Xtvt"
      }
    },
    {
      "cell_type": "code",
      "source": [
        "def printer(logs: ty.Dict[str, ty.Any]):\n",
        "    # print every 10 steps\n",
        "    if logs['iters'] % 10 != 0:\n",
        "        return\n",
        "    print('Iteration #: ',logs['iters'])\n",
        "    for name, value in logs.items():\n",
        "        if name == 'iters':\n",
        "            continue\n",
        "\n",
        "        if type(value) in [float, int]:\n",
        "            value = round(value, 4)\n",
        "        elif type(value) is torch.Tensor:\n",
        "            value = torch.round(value, decimals=4)\n",
        "\n",
        "        print(f'\\t{name} = {value}')\n",
        "    print()"
      ],
      "metadata": {
        "papermill": {
          "duration": 0.051979,
          "end_time": "2024-11-13T17:32:42.202411",
          "exception": false,
          "start_time": "2024-11-13T17:32:42.150432",
          "status": "completed"
        },
        "tags": [],
        "trusted": true,
        "execution": {
          "iopub.status.busy": "2025-01-25T02:27:15.558261Z",
          "iopub.execute_input": "2025-01-25T02:27:15.558563Z",
          "iopub.status.idle": "2025-01-25T02:27:15.56363Z",
          "shell.execute_reply.started": "2025-01-25T02:27:15.558538Z",
          "shell.execute_reply": "2025-01-25T02:27:15.562694Z"
        },
        "id": "Ajz72qr4Xtvt"
      },
      "outputs": [],
      "execution_count": null
    },
    {
      "cell_type": "markdown",
      "source": [
        "# Training loop"
      ],
      "metadata": {
        "papermill": {
          "duration": 0.050635,
          "end_time": "2024-11-13T17:32:42.332431",
          "exception": false,
          "start_time": "2024-11-13T17:32:42.281796",
          "status": "completed"
        },
        "tags": [],
        "id": "Uu1lyR9wXtvt"
      }
    },
    {
      "cell_type": "code",
      "source": [
        "def evaluate(\n",
        "    logs: ty.Dict[str, ty.Any],\n",
        "    labels: ty.Dict[str, Tensor],\n",
        "    preds: ty.Dict[str, Tensor],\n",
        "    eval_set: str,\n",
        "    metrics: ty.Dict[str, ty.Callable[[Tensor, Tensor], Tensor]],\n",
        "    losses: ty.Optional[ty.Dict[str, Tensor]] = None,\n",
        ") -> ty.Dict[str, ty.Any]:\n",
        "\n",
        "    if losses is not None:\n",
        "        for loss_name, loss_value in losses.items():\n",
        "            logs[f'{eval_set}_{loss_name}'] = loss_value\n",
        "\n",
        "    for task_name, label in labels.items():\n",
        "        for metric_name, metric in metrics[task_name]:\n",
        "            value = metric(label, preds[task_name])\n",
        "            logs[f'{eval_set}_{metric_name}'] = value\n",
        "\n",
        "    return logs\n",
        "\n",
        "def step(\n",
        "    model: Model,\n",
        "    optimizer: Optimizer,\n",
        "    batch: militarDataset,\n",
        "    loss_fn: ty.Callable[[ty.Dict[str, torch.Tensor]], torch.Tensor],\n",
        "    device: str,\n",
        "    train: bool = False,\n",
        ") -> ty.Tuple[ty.Dict[str, Tensor], ty.Dict[str, Tensor]]:\n",
        "\n",
        "    if train:\n",
        "        optimizer.zero_grad()\n",
        "\n",
        "    #img = batch['image'].to(device)\n",
        "    img = batch.pop('image').to(device)\n",
        "\n",
        "    for k in list(batch.keys()):\n",
        "        batch[k] = batch[k].to(device)\n",
        "\n",
        "    preds = model(img.float())\n",
        "    losses = loss_fn(batch, preds)\n",
        "    final_loss = losses['loss']\n",
        "\n",
        "    if train:\n",
        "        final_loss.backward()\n",
        "        optimizer.step()\n",
        "\n",
        "    return losses, preds\n",
        "\n",
        "\n",
        "def train(\n",
        "    model: Model,\n",
        "    optimizer: Optimizer,\n",
        "    dataset: DataLoader,\n",
        "    eval_datasets: ty.List[ty.Tuple[str, DataLoader]],\n",
        "    loss_fn: ty.Callable[[ty.Dict[str, torch.Tensor]], torch.Tensor],\n",
        "    metrics: ty.Dict[str, ty.Callable[[Tensor, Tensor], Tensor]],\n",
        "    callbacks: ty.List[ty.Callable[[ty.Dict[ty.Any, ty.Any]], None]],\n",
        "    device: str,\n",
        "    train_steps: 100,\n",
        "    eval_steps: 10,\n",
        ") -> Model:\n",
        "    # Send model to device (GPU or CPU)\n",
        "    model = model.to(device)\n",
        "    iters = 0\n",
        "    iterator = iter(dataset)\n",
        "    assert train_steps > eval_steps, 'Train steps should be greater than the eval steps'\n",
        "\n",
        "    while iters <= train_steps:\n",
        "        logs = dict()\n",
        "        logs['iters'] = iters\n",
        "        try:\n",
        "            batch = next(iterator)\n",
        "        except StopIteration:\n",
        "            iterator = iter(dataset)\n",
        "            batch = next(iterator)\n",
        "        # Send batch to device\n",
        "        losses, preds = step(model, optimizer, batch, loss_fn, device, train=True)\n",
        "        logs = evaluate(logs, batch, preds, 'train', metrics, losses)\n",
        "\n",
        "        # Eval every eval_steps iterations\n",
        "        if iters % eval_steps == 0:\n",
        "            # Evaluate\n",
        "            # Deactives layers that only needed to train\n",
        "            # https://discuss.pytorch.org/t/model-eval-vs-with-torch-no-grad/19615\n",
        "            model.eval()\n",
        "\n",
        "            # Avoids calculating gradients in evaluation dataset.\n",
        "            with torch.no_grad():\n",
        "\n",
        "                for name, dataset in eval_datasets:\n",
        "\n",
        "                    for batch in dataset:\n",
        "                        losses, preds = step(model, optimizer, batch, loss_fn, device, train=False)\n",
        "                        logs = evaluate(logs, batch, preds, name, metrics, losses)\n",
        "\n",
        "        for callback in callbacks:\n",
        "            callback(logs)\n",
        "\n",
        "        iters += 1\n",
        "\n",
        "    return model"
      ],
      "metadata": {
        "papermill": {
          "duration": 0.069189,
          "end_time": "2024-11-13T17:32:42.451328",
          "exception": false,
          "start_time": "2024-11-13T17:32:42.382139",
          "status": "completed"
        },
        "tags": [],
        "trusted": true,
        "execution": {
          "iopub.status.busy": "2025-01-25T02:27:18.177333Z",
          "iopub.execute_input": "2025-01-25T02:27:18.177645Z",
          "iopub.status.idle": "2025-01-25T02:27:18.188923Z",
          "shell.execute_reply.started": "2025-01-25T02:27:18.177617Z",
          "shell.execute_reply": "2025-01-25T02:27:18.1882Z"
        },
        "id": "aGN--fqBXtvu"
      },
      "outputs": [],
      "execution_count": null
    },
    {
      "cell_type": "markdown",
      "source": [
        "# Run"
      ],
      "metadata": {
        "papermill": {
          "duration": 0.043818,
          "end_time": "2024-11-13T17:32:42.53931",
          "exception": false,
          "start_time": "2024-11-13T17:32:42.495492",
          "status": "completed"
        },
        "tags": [],
        "id": "7DdnZKDgXtvu"
      }
    },
    {
      "cell_type": "code",
      "source": [
        "# Hparams\n",
        "batch_size = 16\n",
        "lr = 0.001\n",
        "\n",
        "# Data\n",
        "train_ds = militarDataset(train_df, root_dir=train_root_dir, transform=train_transforms,output_size=(255,255))#,output_size=(255,255)\n",
        "val_ds = militarDataset(val_df, root_dir=train_root_dir, transform=eval_transforms,output_size=(255,255)) #,output_size=(255,255)\n",
        "\n",
        "train_data = DataLoader(train_ds, batch_size=batch_size, shuffle=True, num_workers=cpu_count())\n",
        "val_data = DataLoader(val_ds, batch_size=batch_size, num_workers=cpu_count())\n",
        "\n",
        "# Model\n",
        "model = Model().to(device)\n",
        "summary(model, model.input_shape)"
      ],
      "metadata": {
        "papermill": {
          "duration": 0.436747,
          "end_time": "2024-11-13T17:32:43.0184",
          "exception": false,
          "start_time": "2024-11-13T17:32:42.581653",
          "status": "completed"
        },
        "tags": [],
        "trusted": true,
        "execution": {
          "iopub.status.busy": "2025-01-25T02:27:23.309344Z",
          "iopub.execute_input": "2025-01-25T02:27:23.309621Z",
          "iopub.status.idle": "2025-01-25T02:27:23.711632Z",
          "shell.execute_reply.started": "2025-01-25T02:27:23.309599Z",
          "shell.execute_reply": "2025-01-25T02:27:23.71085Z"
        },
        "id": "Whw7OYwXXtvu"
      },
      "outputs": [],
      "execution_count": null
    },
    {
      "cell_type": "code",
      "source": [
        "# Optimizer\n",
        "optimizer = torch.optim.Adam(lr=lr, params=model.parameters())\n",
        "\n",
        "model = train(\n",
        "    model,\n",
        "    optimizer,\n",
        "    train_data,\n",
        "    eval_datasets=[('val', val_data)],\n",
        "    loss_fn=loss_fn,\n",
        "    metrics={\n",
        "        'bbox': [('iou', iou)],\n",
        "        'class_id': [('accuracy', accuracy)]\n",
        "    },\n",
        "    callbacks=[printer],\n",
        "    device=device,\n",
        "    train_steps=100,\n",
        "    eval_steps=10\n",
        ")"
      ],
      "metadata": {
        "papermill": {
          "duration": 26.288253,
          "end_time": "2024-11-13T17:33:09.351217",
          "exception": false,
          "start_time": "2024-11-13T17:32:43.062964",
          "status": "completed"
        },
        "tags": [],
        "trusted": true,
        "execution": {
          "iopub.status.busy": "2025-01-25T02:27:31.336444Z",
          "iopub.execute_input": "2025-01-25T02:27:31.336741Z",
          "iopub.status.idle": "2025-01-25T02:28:00.34506Z",
          "shell.execute_reply.started": "2025-01-25T02:27:31.336716Z",
          "shell.execute_reply": "2025-01-25T02:28:00.344028Z"
        },
        "id": "fSm_6N0lXtvv"
      },
      "outputs": [],
      "execution_count": null
    },
    {
      "cell_type": "code",
      "source": [
        "model.parameters()"
      ],
      "metadata": {
        "papermill": {
          "duration": 0.05378,
          "end_time": "2024-11-13T17:33:09.45006",
          "exception": false,
          "start_time": "2024-11-13T17:33:09.39628",
          "status": "completed"
        },
        "tags": [],
        "trusted": true,
        "execution": {
          "iopub.status.busy": "2025-01-25T02:28:28.510638Z",
          "iopub.execute_input": "2025-01-25T02:28:28.510977Z",
          "iopub.status.idle": "2025-01-25T02:28:28.516327Z",
          "shell.execute_reply.started": "2025-01-25T02:28:28.51095Z",
          "shell.execute_reply": "2025-01-25T02:28:28.515658Z"
        },
        "id": "wWl-QZERXtvv"
      },
      "outputs": [],
      "execution_count": null
    },
    {
      "cell_type": "code",
      "source": [
        "num_imgs = 5\n",
        "ncols = 5\n",
        "nrows = math.ceil(num_imgs / ncols)\n",
        "\n",
        "start_idx = 0\n",
        "\n",
        "inference_ds = militarDataset(val_df.iloc[start_idx:start_idx+num_imgs], root_dir=train_root_dir,output_size=(w,h))#,output_size=(255,255)\n",
        "inference_data = DataLoader(inference_ds, batch_size=num_imgs, num_workers=1, shuffle=False)\n",
        "inference_batch = next(iter(inference_data))\n",
        "inference_imgs = np.empty((num_imgs, 3, h, w))\n",
        "\n",
        "transform = eval_transforms\n",
        "\n",
        "for i, img in enumerate(inference_batch['image']):\n",
        "    inference_imgs[i] = transform(dict(image=img.numpy()))['image'].numpy()\n",
        "\n",
        "preds = model(torch.tensor(inference_imgs).float().to(device))\n",
        "\n",
        "samples = [inference_ds[i] for i in range(start_idx, num_imgs)]\n",
        "\n",
        "imgs = [s['image'] for s in samples]\n",
        "bboxes = [normalize_bbox(s['bbox'].squeeze(), h, w) for s in samples]\n",
        "classes = [s['class_id'] for s in samples]\n",
        "\n",
        "pred_bboxes = preds['bbox'].detach().cpu().numpy()\n",
        "pred_bboxes = [normalize_bbox(bbox, h, w) for bbox in pred_bboxes]\n",
        "pred_classes = preds['class_id'].argmax(-1).detach().cpu().numpy()"
      ],
      "metadata": {
        "papermill": {
          "duration": 0.205809,
          "end_time": "2024-11-13T17:33:09.699643",
          "exception": false,
          "start_time": "2024-11-13T17:33:09.493834",
          "status": "completed"
        },
        "tags": [],
        "trusted": true,
        "execution": {
          "iopub.status.busy": "2025-01-25T02:28:34.208188Z",
          "iopub.execute_input": "2025-01-25T02:28:34.208495Z",
          "iopub.status.idle": "2025-01-25T02:28:34.435409Z",
          "shell.execute_reply.started": "2025-01-25T02:28:34.208471Z",
          "shell.execute_reply": "2025-01-25T02:28:34.43458Z"
        },
        "id": "tUUvWCq-Xtvw"
      },
      "outputs": [],
      "execution_count": null
    },
    {
      "cell_type": "code",
      "source": [
        "# Green: ground truth\n",
        "\n",
        "imgs = draw_predictions(imgs, classes, bboxes, [(0, 150, 0)], (int(w*0.1), int(h*0.1)),thickness = 1,fontScale=1)\n",
        "# Red: predicted\n",
        "pred_classes_ = []\n",
        "for i in range(num_imgs):\n",
        "    temp = np.array([pred_classes[i]])\n",
        "    pred_classes_.append(temp)\n",
        "imgs = draw_predictions(imgs, pred_classes_, pred_bboxes, [(200, 0, 0)], (int(w*0.8), int(h*0.8)),thickness = 1,fontScale=1)\n",
        "\n",
        "fig, axes = plt.subplots(nrows=nrows, ncols=num_imgs // nrows, figsize=(30, 30))\n",
        "\n",
        "for i, ax in enumerate(axes.flat):\n",
        "    ax.imshow(imgs[i])\n",
        "    ax.axis('off')\n",
        "\n",
        "plt.tight_layout()\n",
        "plt.show()"
      ],
      "metadata": {
        "papermill": {
          "duration": 1.150701,
          "end_time": "2024-11-13T17:33:10.898132",
          "exception": false,
          "start_time": "2024-11-13T17:33:09.747431",
          "status": "completed"
        },
        "tags": [],
        "trusted": true,
        "execution": {
          "iopub.status.busy": "2025-01-25T02:28:40.488016Z",
          "iopub.execute_input": "2025-01-25T02:28:40.488326Z",
          "iopub.status.idle": "2025-01-25T02:28:41.049143Z",
          "shell.execute_reply.started": "2025-01-25T02:28:40.488301Z",
          "shell.execute_reply": "2025-01-25T02:28:41.048233Z"
        },
        "id": "rCLeK75kXtvx"
      },
      "outputs": [],
      "execution_count": null
    },
    {
      "cell_type": "code",
      "source": [
        "!wget https://m.media-amazon.com/images/I/51lHKrgInNL._AC_SL1000_.jpg\n",
        "!ls\n"
      ],
      "metadata": {
        "papermill": {
          "duration": 2.333653,
          "end_time": "2024-11-13T17:33:13.297329",
          "exception": false,
          "start_time": "2024-11-13T17:33:10.963676",
          "status": "completed"
        },
        "tags": [],
        "trusted": true,
        "execution": {
          "iopub.status.busy": "2025-01-25T02:28:54.134358Z",
          "iopub.execute_input": "2025-01-25T02:28:54.134669Z",
          "iopub.status.idle": "2025-01-25T02:28:54.594468Z",
          "shell.execute_reply.started": "2025-01-25T02:28:54.134643Z",
          "shell.execute_reply": "2025-01-25T02:28:54.593616Z"
        },
        "id": "MF4_MToXXtvx"
      },
      "outputs": [],
      "execution_count": null
    },
    {
      "cell_type": "code",
      "source": [
        "pickle_rick_img = io.imread('51lHKrgInNL._AC_SL1000_.jpg')\n",
        "pickle_rick_img = cv2.resize(pickle_rick_img, (w, h))\n",
        "pickle_rick_img_=np.expand_dims(pickle_rick_img.transpose(2,0,1), 0)"
      ],
      "metadata": {
        "papermill": {
          "duration": 0.102943,
          "end_time": "2024-11-13T17:33:13.462568",
          "exception": false,
          "start_time": "2024-11-13T17:33:13.359625",
          "status": "completed"
        },
        "tags": [],
        "trusted": true,
        "execution": {
          "iopub.status.busy": "2025-01-25T02:28:57.047258Z",
          "iopub.execute_input": "2025-01-25T02:28:57.047582Z",
          "iopub.status.idle": "2025-01-25T02:28:57.064211Z",
          "shell.execute_reply.started": "2025-01-25T02:28:57.047558Z",
          "shell.execute_reply": "2025-01-25T02:28:57.063476Z"
        },
        "id": "u6GJAa0-Xtvx"
      },
      "outputs": [],
      "execution_count": null
    },
    {
      "cell_type": "code",
      "source": [
        "plt.imshow(pickle_rick_img)"
      ],
      "metadata": {
        "papermill": {
          "duration": 0.405488,
          "end_time": "2024-11-13T17:33:13.930214",
          "exception": false,
          "start_time": "2024-11-13T17:33:13.524726",
          "status": "completed"
        },
        "tags": [],
        "trusted": true,
        "execution": {
          "iopub.status.busy": "2025-01-25T02:29:01.149345Z",
          "iopub.execute_input": "2025-01-25T02:29:01.149649Z",
          "iopub.status.idle": "2025-01-25T02:29:01.358005Z",
          "shell.execute_reply.started": "2025-01-25T02:29:01.149626Z",
          "shell.execute_reply": "2025-01-25T02:29:01.357228Z"
        },
        "id": "_VeNNdjcXtvy"
      },
      "outputs": [],
      "execution_count": null
    },
    {
      "cell_type": "code",
      "source": [
        "pickle_rick_img.shape, pickle_rick_img_.shape"
      ],
      "metadata": {
        "papermill": {
          "duration": 0.077973,
          "end_time": "2024-11-13T17:33:14.078908",
          "exception": false,
          "start_time": "2024-11-13T17:33:14.000935",
          "status": "completed"
        },
        "tags": [],
        "trusted": true,
        "execution": {
          "iopub.status.busy": "2025-01-25T02:29:04.62647Z",
          "iopub.execute_input": "2025-01-25T02:29:04.626781Z",
          "iopub.status.idle": "2025-01-25T02:29:04.632193Z",
          "shell.execute_reply.started": "2025-01-25T02:29:04.626758Z",
          "shell.execute_reply": "2025-01-25T02:29:04.631286Z"
        },
        "id": "59rkvHvjXtvy"
      },
      "outputs": [],
      "execution_count": null
    },
    {
      "cell_type": "code",
      "source": [
        "preds = model(torch.tensor(pickle_rick_img_).float().to(device))\n",
        "pred_classes = preds['class_id'].argmax(-1).detach().cpu().numpy()\n",
        "pred_bboxes = preds['bbox'].detach().cpu().numpy().tolist()\n",
        "pred_class = id2obj[pred_classes[0]]\n",
        "xmin=int(pred_bboxes[0][0]*w)\n",
        "ymin=int(pred_bboxes[0][1]*h)\n",
        "xmax=int(pred_bboxes[0][2]*w)\n",
        "ymax=int(pred_bboxes[0][3]*h)\n",
        "pickle_rick_img_ = cv2.rectangle(pickle_rick_img, (xmin, ymin), (xmax, ymax), (255, 0, 0))\n",
        "pickle_rick_img_ = cv2.putText(pickle_rick_img_, pred_class, (xmin, ymin-5), cv2.FONT_HERSHEY_SIMPLEX, 0.5, (255, 0, 0), 1, cv2.LINE_AA)\n",
        "plt.figure(figsize=(5, 5))\n",
        "plt.imshow(pickle_rick_img_)\n",
        "plt.axis(\"off\")\n",
        "plt.show()"
      ],
      "metadata": {
        "papermill": {
          "duration": 0.317821,
          "end_time": "2024-11-13T17:33:14.462454",
          "exception": false,
          "start_time": "2024-11-13T17:33:14.144633",
          "status": "completed"
        },
        "tags": [],
        "trusted": true,
        "execution": {
          "iopub.status.busy": "2025-01-25T02:29:07.00686Z",
          "iopub.execute_input": "2025-01-25T02:29:07.007161Z",
          "iopub.status.idle": "2025-01-25T02:29:07.121135Z",
          "shell.execute_reply.started": "2025-01-25T02:29:07.007139Z",
          "shell.execute_reply": "2025-01-25T02:29:07.120349Z"
        },
        "id": "IPDzqmybXtvy"
      },
      "outputs": [],
      "execution_count": null
    },
    {
      "cell_type": "code",
      "source": [
        "# Save the model to disk\n",
        "torch.save(model, 'pretrained_model.pth')"
      ],
      "metadata": {
        "papermill": {
          "duration": 0.487078,
          "end_time": "2024-11-13T17:33:15.02297",
          "exception": false,
          "start_time": "2024-11-13T17:33:14.535892",
          "status": "completed"
        },
        "tags": [],
        "trusted": true,
        "execution": {
          "iopub.status.busy": "2025-01-25T02:29:10.869051Z",
          "iopub.execute_input": "2025-01-25T02:29:10.869346Z",
          "iopub.status.idle": "2025-01-25T02:29:11.27403Z",
          "shell.execute_reply.started": "2025-01-25T02:29:10.869323Z",
          "shell.execute_reply": "2025-01-25T02:29:11.273304Z"
        },
        "id": "cOdYF3IqXtvz"
      },
      "outputs": [],
      "execution_count": null
    },
    {
      "cell_type": "markdown",
      "source": [
        "# Submission"
      ],
      "metadata": {
        "papermill": {
          "duration": 0.067774,
          "end_time": "2024-11-13T17:33:15.1594",
          "exception": false,
          "start_time": "2024-11-13T17:33:15.091626",
          "status": "completed"
        },
        "tags": [],
        "id": "BcdvNVokXtvz"
      }
    },
    {
      "cell_type": "code",
      "source": [
        "# Perform inference on cpu in order to avoid memory problems\n",
        "device = 'cuda'\n",
        "model = model.to(device)\n",
        "\n",
        "test_root_dir = osp.join(DATA_DIR, \"images/images\")\n",
        "test_df = pd.read_csv(osp.join(DATA_DIR, \"test.csv\"))\n",
        "\n",
        "test_ds = militarDataset(test_df, root_dir=test_root_dir, labeled=False, transform=eval_transforms,output_size=(w,h))#\n",
        "test_data = DataLoader(test_ds, batch_size=1, num_workers=cpu_count(), shuffle=False)\n",
        "\n",
        "class_preds = []\n",
        "bbox_preds = []\n",
        "\n",
        "for batch in test_data:\n",
        "    batch_preds = model(batch['image'].float().to(device))\n",
        "\n",
        "    class_pred = batch_preds['class_id'].argmax(-1).detach().cpu().numpy()\n",
        "    bbox_pred = batch_preds['bbox'].detach().cpu().numpy()\n",
        "\n",
        "    class_preds.append(class_pred.squeeze())\n",
        "    bbox_preds.append(bbox_pred.squeeze())"
      ],
      "metadata": {
        "papermill": {
          "duration": 0.900442,
          "end_time": "2024-11-13T17:33:16.127944",
          "exception": false,
          "start_time": "2024-11-13T17:33:15.227502",
          "status": "completed"
        },
        "tags": [],
        "trusted": true,
        "execution": {
          "iopub.status.busy": "2025-01-25T02:29:17.084856Z",
          "iopub.execute_input": "2025-01-25T02:29:17.085154Z",
          "iopub.status.idle": "2025-01-25T02:29:17.916112Z",
          "shell.execute_reply.started": "2025-01-25T02:29:17.085131Z",
          "shell.execute_reply": "2025-01-25T02:29:17.914927Z"
        },
        "id": "vD9la4hXXtv0"
      },
      "outputs": [],
      "execution_count": null
    },
    {
      "cell_type": "code",
      "source": [
        "class_preds = np.array(class_preds)\n",
        "bbox_preds = np.array(bbox_preds)"
      ],
      "metadata": {
        "papermill": {
          "duration": 0.077976,
          "end_time": "2024-11-13T17:33:16.274899",
          "exception": false,
          "start_time": "2024-11-13T17:33:16.196923",
          "status": "completed"
        },
        "tags": [],
        "trusted": true,
        "execution": {
          "iopub.status.busy": "2025-01-25T02:29:26.159921Z",
          "iopub.execute_input": "2025-01-25T02:29:26.160244Z",
          "iopub.status.idle": "2025-01-25T02:29:26.164786Z",
          "shell.execute_reply.started": "2025-01-25T02:29:26.160218Z",
          "shell.execute_reply": "2025-01-25T02:29:26.164013Z"
        },
        "id": "HytpP1djXtv0"
      },
      "outputs": [],
      "execution_count": null
    },
    {
      "cell_type": "code",
      "source": [
        "submission = pd.DataFrame(\n",
        "    index=test_df.filename,\n",
        "    data={\n",
        "        'class': class_preds,\n",
        "        }\n",
        ")\n",
        "submission"
      ],
      "metadata": {
        "papermill": {
          "duration": 0.089679,
          "end_time": "2024-11-13T17:33:16.432577",
          "exception": false,
          "start_time": "2024-11-13T17:33:16.342898",
          "status": "completed"
        },
        "tags": [],
        "trusted": true,
        "execution": {
          "iopub.status.busy": "2025-01-25T02:29:28.870872Z",
          "iopub.execute_input": "2025-01-25T02:29:28.871167Z",
          "iopub.status.idle": "2025-01-25T02:29:28.88329Z",
          "shell.execute_reply.started": "2025-01-25T02:29:28.871146Z",
          "shell.execute_reply": "2025-01-25T02:29:28.882601Z"
        },
        "id": "f9-X_wHLXtv1"
      },
      "outputs": [],
      "execution_count": null
    },
    {
      "cell_type": "code",
      "source": [
        "submission[\"xmin\"] = bbox_preds[:, 0]*w_real\n",
        "submission[\"ymin\"] = bbox_preds[:, 1]*h_real\n",
        "submission[\"xmax\"] = bbox_preds[:, 2]*w_real\n",
        "submission[\"ymax\"] = bbox_preds[:, 3]*h_real"
      ],
      "metadata": {
        "trusted": true,
        "execution": {
          "iopub.status.busy": "2025-01-25T02:29:33.758127Z",
          "iopub.execute_input": "2025-01-25T02:29:33.758412Z",
          "iopub.status.idle": "2025-01-25T02:29:33.764811Z",
          "shell.execute_reply.started": "2025-01-25T02:29:33.75839Z",
          "shell.execute_reply": "2025-01-25T02:29:33.763889Z"
        },
        "id": "EGK1TV0jXtv1"
      },
      "outputs": [],
      "execution_count": null
    },
    {
      "cell_type": "code",
      "source": [
        "submission['class']=submission['class'].replace(id2obj)"
      ],
      "metadata": {
        "papermill": {
          "duration": 0.075377,
          "end_time": "2024-11-13T17:33:16.730726",
          "exception": false,
          "start_time": "2024-11-13T17:33:16.655349",
          "status": "completed"
        },
        "tags": [],
        "trusted": true,
        "execution": {
          "iopub.status.busy": "2025-01-25T02:29:36.799297Z",
          "iopub.execute_input": "2025-01-25T02:29:36.79962Z",
          "iopub.status.idle": "2025-01-25T02:29:36.804739Z",
          "shell.execute_reply.started": "2025-01-25T02:29:36.79959Z",
          "shell.execute_reply": "2025-01-25T02:29:36.803866Z"
        },
        "id": "mkRmckiBXtv2"
      },
      "outputs": [],
      "execution_count": null
    },
    {
      "cell_type": "code",
      "source": [
        "submission['class'].value_counts()"
      ],
      "metadata": {
        "papermill": {
          "duration": 0.08054,
          "end_time": "2024-11-13T17:33:16.880551",
          "exception": false,
          "start_time": "2024-11-13T17:33:16.800011",
          "status": "completed"
        },
        "tags": [],
        "trusted": true,
        "execution": {
          "iopub.status.busy": "2025-01-25T02:29:38.967468Z",
          "iopub.execute_input": "2025-01-25T02:29:38.967755Z",
          "iopub.status.idle": "2025-01-25T02:29:38.974178Z",
          "shell.execute_reply.started": "2025-01-25T02:29:38.967734Z",
          "shell.execute_reply": "2025-01-25T02:29:38.973263Z"
        },
        "id": "7AOZQka5Xtv2"
      },
      "outputs": [],
      "execution_count": null
    },
    {
      "cell_type": "code",
      "source": [
        "submission.to_csv('submission.csv')"
      ],
      "metadata": {
        "papermill": {
          "duration": 0.080309,
          "end_time": "2024-11-13T17:33:17.029378",
          "exception": false,
          "start_time": "2024-11-13T17:33:16.949069",
          "status": "completed"
        },
        "tags": [],
        "trusted": true,
        "execution": {
          "iopub.status.busy": "2025-01-25T02:29:42.271247Z",
          "iopub.execute_input": "2025-01-25T02:29:42.271538Z",
          "iopub.status.idle": "2025-01-25T02:29:42.280703Z",
          "shell.execute_reply.started": "2025-01-25T02:29:42.271515Z",
          "shell.execute_reply": "2025-01-25T02:29:42.279961Z"
        },
        "id": "IZsAigQzXtv3"
      },
      "outputs": [],
      "execution_count": null
    }
  ]
}